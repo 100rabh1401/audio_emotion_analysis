{
 "cells": [
  {
   "cell_type": "code",
   "execution_count": 1,
   "metadata": {
    "collapsed": false
   },
   "outputs": [],
   "source": [
    "from __future__ import division \n",
    "import matplotlib.pyplot as plt\n",
    "%matplotlib inline\n",
    "import emotion_analysis\n",
    "emo = emotion_analysis.EmotionAnalysis()"
   ]
  },
  {
   "cell_type": "code",
   "execution_count": 2,
   "metadata": {
    "collapsed": false
   },
   "outputs": [
    {
     "name": "stdout",
     "output_type": "stream",
     "text": [
      "Skipping audio file 'tess_data\\YAF_germ_angry.wav.wav'\n",
      "Read audio file 'tess_data\\OAF_nag_neutral.wav.wav', count: 100\n",
      "Read audio file 'tess_data\\YAF_walk_ps.wav.wav', count: 200\n",
      "Read audio file 'tess_data\\OAF_boat_ps.wav.wav', count: 300\n",
      "Read audio file 'tess_data\\YAF_lore_disgust.wav.wav', count: 400\n",
      "Read audio file 'tess_data\\OAF_neat_angry.wav.wav', count: 500\n",
      "Read audio file 'tess_data\\OAF_third_sad.wav.wav', count: 600\n",
      "Read audio file 'tess_data\\YAF_book_fear.wav.wav', count: 700\n",
      "Read audio file 'tess_data\\OAF_mob_ps.wav.wav', count: 800\n",
      "Read audio file 'tess_data\\OAF_tough_disgust.wav.wav', count: 900\n",
      "Read audio file 'tess_data\\YAF_wife_sad.wav.wav', count: 1000\n",
      "Read audio file 'tess_data\\OAF_kill_ps.wav.wav', count: 1100\n",
      "Read audio file 'tess_data\\OAF_soap_neutral.wav.wav', count: 1200\n",
      "Read audio file 'tess_data\\YAF_mood_fear.wav.wav', count: 1300\n",
      "Read audio file 'tess_data\\YAF_rough_ps.wav.wav', count: 1400\n",
      "Read audio file 'tess_data\\OAF_lean_angry.wav.wav', count: 1500\n",
      "Read audio file 'tess_data\\OAF_hall_neutral.wav.wav', count: 1600\n",
      "Read audio file 'tess_data\\YAF_gun_angry.wav.wav', count: 1700\n",
      "Read audio file 'tess_data\\YAF_pass_sad.wav.wav', count: 1800\n",
      "Read audio file 'tess_data\\YAF_cheek_sad.wav.wav', count: 1900\n",
      "Skipping audio file 'tess_data\\YAF_neat_fear.wav.wav'\n",
      "Read audio file 'tess_data\\YAF_good_disgust.wav.wav', count: 2000\n",
      "Read audio file 'tess_data\\YAF_void_neutral.wav.wav', count: 2100\n",
      "Read audio file 'tess_data\\OAF_voice_fear.wav.wav', count: 2200\n",
      "Read audio file 'tess_data\\OAF_search_happy.wav.wav', count: 2300\n",
      "Read audio file 'tess_data\\YAF_gaze_ps.wav.wav', count: 2400\n",
      "Read audio file 'tess_data\\YAF_team_ps.wav.wav', count: 2500\n",
      "Read audio file 'tess_data\\OAF_room_neutral.wav.wav', count: 2600\n",
      "Read audio file 'tess_data\\OAF_nag_sad.wav.wav', count: 2700\n"
     ]
    }
   ],
   "source": [
    "inp, lab = emo.prepare_dataset_per_frame('tess_data')"
   ]
  },
  {
   "cell_type": "code",
   "execution_count": 3,
   "metadata": {
    "collapsed": false
   },
   "outputs": [
    {
     "data": {
      "text/plain": [
       "Counter({'negative': 168827, 'neutral': 81618, 'positive': 158529})"
      ]
     },
     "execution_count": 3,
     "metadata": {},
     "output_type": "execute_result"
    }
   ],
   "source": [
    "from collections import Counter\n",
    "Counter(lab)"
   ]
  },
  {
   "cell_type": "code",
   "execution_count": 4,
   "metadata": {
    "collapsed": false
   },
   "outputs": [],
   "source": [
    "#from random import shuffle\n",
    "import numpy as np\n",
    "#dataset = zip(inp, lab)\n",
    "#shuffle(dataset)\n",
    "#inp, lab = zip(*dataset)\n",
    "max_value = max([max(i) for i in inp])\n",
    "min_value = min([min(i) for i in inp])\n",
    "\n",
    "#inp = inp[:100000]\n",
    "#lab = lab[:100000]\n",
    "\n",
    "#normalised_inp = np.asarray(inp)/max_value\n",
    "inp = (np.asarray(inp)-min_value)/(max_value-min_value)"
   ]
  },
  {
   "cell_type": "code",
   "execution_count": 5,
   "metadata": {
    "collapsed": false
   },
   "outputs": [],
   "source": [
    "from pybrain.structure.modules import LSTMLayer, SoftmaxLayer, TanhLayer\n",
    "from pybrain.supervised import RPropMinusTrainer, BackpropTrainer\n",
    "from pybrain.tools.shortcuts import buildNetwork\n",
    "from pybrain.datasets import SequenceClassificationDataSet, ClassificationDataSet"
   ]
  },
  {
   "cell_type": "code",
   "execution_count": 6,
   "metadata": {
    "collapsed": false
   },
   "outputs": [],
   "source": [
    "lab_to_int = {'neutral':0, 'positive':1, 'negative':2}\n",
    "int_to_lab = {0:'neutral', 1:'positive', 2:'negative'}\n",
    "traindata = ClassificationDataSet(len(inp[0]), 1, nb_classes = 3)\n",
    "#for i in range(int(len(inp)*3/4)):\n",
    "for i in range(int(len(inp))):\n",
    "    traindata.addSample(inp[i],lab_to_int[lab[i]])"
   ]
  },
  {
   "cell_type": "code",
   "execution_count": 7,
   "metadata": {
    "collapsed": false
   },
   "outputs": [],
   "source": [
    "traindata._convertToOneOfMany()"
   ]
  },
  {
   "cell_type": "code",
   "execution_count": 8,
   "metadata": {
    "collapsed": false
   },
   "outputs": [],
   "source": [
    "rnn = buildNetwork(traindata.indim, 10, traindata.outdim, hiddenclass = LSTMLayer, outclass = SoftmaxLayer, recurrent = True)\n",
    "trainer = RPropMinusTrainer(rnn, dataset = traindata, verbose = True)\n",
    "error = []\n",
    "#counter = 0"
   ]
  },
  {
   "cell_type": "code",
   "execution_count": 9,
   "metadata": {
    "collapsed": false,
    "scrolled": false
   },
   "outputs": [
    {
     "name": "stdout",
     "output_type": "stream",
     "text": [
      "epoch      0  total error      0.18321   avg weight        1.0449\n",
      "epoch      1  total error      0.11702   avg weight        1.0463\n",
      "epoch      2  total error      0.12731   avg weight        1.0503\n",
      "epoch      3  total error      0.14638   avg weight        1.0457\n",
      "epoch      4  total error      0.11312   avg weight        1.0474\n",
      "epoch      5  total error      0.11788   avg weight        1.0486\n",
      "epoch      6  total error       0.1255   avg weight        1.0532\n",
      "epoch      7  total error      0.10818   avg weight        1.0552\n",
      "epoch      8  total error      0.11599   avg weight        1.0547\n",
      "epoch      9  total error      0.10846   avg weight        1.0543\n"
     ]
    }
   ],
   "source": [
    "for i in range(10):\n",
    "    #print \"Epoch: \"+str(counter)\n",
    "    error.append(trainer.train())\n",
    "    #print \"\"\n",
    "    #counter += 1"
   ]
  },
  {
   "cell_type": "code",
   "execution_count": 10,
   "metadata": {
    "collapsed": false
   },
   "outputs": [
    {
     "data": {
      "image/png": "[encoded data removed]",
      "text/plain": [
       "<matplotlib.figure.Figure at 0x7d933d0>"
      ]
     },
     "metadata": {},
     "output_type": "display_data"
    }
   ],
   "source": [
    "x=[i for i in range(len(error))]\n",
    "plt.plot(x, error)\n",
    "plt.show()"
   ]
  },
  {
   "cell_type": "code",
   "execution_count": 11,
   "metadata": {
    "collapsed": true
   },
   "outputs": [],
   "source": [
    "import feature_extractor\n",
    "import scipy.io.wavfile as wav\n",
    "import math\n",
    "\n",
    "extractor = feature_extractor.FeatureExtractor()\n",
    "\n",
    "def final_result(audio_signal):\n",
    "    all_result = []\n",
    "    for frame_feature in extractor.extract_features_per_frame(audio_signal = audio_signal):\n",
    "        frame_feature = (np.asarray(frame_feature)-min_value)/(max_value-min_value)\n",
    "        frame_result = int_to_lab[rnn.activate(frame_feature).argmax()]\n",
    "        all_result.append(frame_result)\n",
    "    label_counts = Counter(all_result)\n",
    "    print label_counts\n",
    "    return max(label_counts, key = label_counts.get)"
   ]
  },
  {
   "cell_type": "code",
   "execution_count": 24,
   "metadata": {
    "collapsed": false,
    "scrolled": true
   },
   "outputs": [
    {
     "name": "stdout",
     "output_type": "stream",
     "text": [
      "Counter({'negative': 180, 'positive': 17})\n",
      "Counter({'negative': 153})\n",
      "Counter({'negative': 240, 'positive': 5})\n",
      "Counter({'negative': 268, 'positive': 6})\n",
      "Counter({'negative': 158})\n",
      "Counter({'negative': 202})\n",
      "Counter({'negative': 193, 'positive': 7})\n",
      "Counter({'negative': 183, 'positive': 17})\n",
      "Counter({'negative': 193, 'positive': 43})\n",
      "Counter({'negative': 211})\n",
      "Counter({'negative': 144, 'positive': 2})\n",
      "Counter({'negative': 174})\n",
      "Counter({'negative': 210, 'positive': 17})\n",
      "Counter({'negative': 247, 'positive': 3})\n",
      "Counter({'negative': 192, 'positive': 15})\n",
      "Counter({'negative': 256})\n",
      "Counter({'negative': 201, 'positive': 9})\n",
      "Counter({'negative': 234})\n",
      "Counter({'negative': 187, 'positive': 1})\n",
      "Counter({'negative': 144})\n",
      "Counter({'negative': 236})\n",
      "Counter({'negative': 255, 'positive': 3})\n",
      "Counter({'negative': 259, 'positive': 23})\n",
      "Counter({'negative': 196})\n",
      "Counter({'negative': 150})\n",
      "Counter({'negative': 193})\n",
      "Counter({'negative': 225, 'positive': 4})\n",
      "Counter({'negative': 152})\n",
      "Counter({'negative': 205, 'positive': 1})\n",
      "Counter({'negative': 164, 'positive': 19})\n",
      "Counter({'negative': 242})\n",
      "Counter({'negative': 192, 'positive': 3})\n",
      "Counter({'negative': 206, 'positive': 8})\n",
      "Counter({'negative': 211, 'positive': 1})\n",
      "Counter({'negative': 167})\n",
      "Counter({'negative': 162})\n",
      "Counter({'negative': 163, 'positive': 1})\n",
      "Counter({'negative': 144})\n",
      "Counter({'negative': 219, 'positive': 11})\n",
      "Counter({'negative': 205})\n",
      "Counter({'negative': 201, 'positive': 8})\n",
      "Counter({'negative': 213})\n",
      "Counter({'negative': 189, 'positive': 1})\n",
      "Counter({'negative': 269, 'positive': 2})\n",
      "Counter({'negative': 193, 'positive': 22})\n",
      "Counter({'negative': 186})\n",
      "Counter({'negative': 182})\n",
      "Counter({'negative': 184, 'positive': 2})\n",
      "Counter({'negative': 184, 'positive': 40})\n",
      "Counter({'negative': 249})\n",
      "Counter({'negative': 150, 'positive': 1})\n",
      "Counter({'negative': 209, 'positive': 11})\n",
      "Counter({'negative': 181})\n",
      "Counter({'negative': 261})\n",
      "Counter({'negative': 182, 'positive': 2})\n",
      "Counter({'negative': 159})\n",
      "Counter({'negative': 156, 'positive': 6})\n",
      "Counter({'negative': 181})\n",
      "Counter({'negative': 184, 'positive': 2})\n",
      "Counter({'negative': 198})\n",
      "Counter({'negative': 268})\n",
      "Counter({'negative': 203, 'positive': 7})\n",
      "Counter({'negative': 182, 'positive': 1})\n",
      "Counter({'negative': 257, 'positive': 10})\n",
      "Counter({'negative': 192})\n",
      "Counter({'negative': 196, 'positive': 4})\n",
      "Counter({'negative': 223})\n",
      "Counter({'negative': 247})\n",
      "Counter({'negative': 171})\n",
      "Counter({'negative': 177, 'positive': 29})\n",
      "Counter({'negative': 201})\n",
      "Counter({'negative': 207})\n",
      "Counter({'negative': 219, 'positive': 3})\n",
      "Counter({'negative': 253})\n",
      "Counter({'negative': 192, 'positive': 27})\n",
      "Counter({'negative': 169, 'positive': 1})\n",
      "Counter({'negative': 173, 'positive': 7})\n",
      "Counter({'negative': 202, 'positive': 1})\n",
      "Counter({'negative': 174, 'positive': 2})\n",
      "Counter({'negative': 248})\n",
      "Counter({'negative': 273})\n",
      "Counter({'negative': 168, 'positive': 20})\n",
      "Counter({'negative': 161})\n",
      "Counter({'negative': 215})\n",
      "Counter({'negative': 188, 'positive': 2})\n",
      "Counter({'negative': 222, 'positive': 3})\n",
      "Counter({'negative': 182, 'positive': 2})\n",
      "Counter({'negative': 148})\n",
      "Counter({'negative': 262})\n",
      "Counter({'negative': 184, 'positive': 18})\n",
      "Counter({'negative': 161})\n",
      "Counter({'negative': 228})\n",
      "Counter({'negative': 216, 'positive': 6})\n",
      "Counter({'negative': 160})\n",
      "Counter({'negative': 194, 'positive': 7})\n",
      "Counter({'negative': 263, 'positive': 22})\n",
      "Counter({'negative': 191, 'positive': 2})\n",
      "Counter({'negative': 186, 'positive': 7})\n",
      "Counter({'negative': 221})\n",
      "Counter({'negative': 177, 'positive': 2})\n"
     ]
    }
   ],
   "source": [
    "from os import listdir\n",
    "from os.path import isfile, join\n",
    "import scipy.io.wavfile as wav\n",
    "from random import shuffle\n",
    "\n",
    "path = 'tess_data'\n",
    "\n",
    "y_pred=[]\n",
    "y_actual=[]\n",
    "\n",
    "audio_files = [f for f in listdir(path) if isfile(join(path, f))]\n",
    "shuffle(audio_files)\n",
    "for audio_file in audio_files[:100]:\n",
    "    y_pred.append(final_result(audio_signal = wav.read(join(path, audio_file))))\n",
    "    y_actual.append(audio_file.split('_')[2].split('.')[0])"
   ]
  },
  {
   "cell_type": "code",
   "execution_count": 25,
   "metadata": {
    "collapsed": false
   },
   "outputs": [
    {
     "data": {
      "text/plain": [
       "32"
      ]
     },
     "execution_count": 25,
     "metadata": {},
     "output_type": "execute_result"
    }
   ],
   "source": [
    "import sys\n",
    "sys.getsizeof(trainer)"
   ]
  },
  {
   "cell_type": "code",
   "execution_count": 26,
   "metadata": {
    "collapsed": false
   },
   "outputs": [
    {
     "name": "stdout",
     "output_type": "stream",
     "text": [
      "Precision = [ 0.  0.  0.]\n",
      "Recall = [ 0.  0.  0.]\n",
      "F1 Score = [ 0.  0.  0.]\n"
     ]
    }
   ],
   "source": [
    "from sklearn.metrics import precision_recall_fscore_support\n",
    "precision, recall, f1_score, _ = precision_recall_fscore_support(y_actual, y_pred, labels=['neutral','positive','negative'])\n",
    "print \"Precision = \"+str(precision)+\"\\nRecall = \"+str(recall)+\"\\nF1 Score = \"+str(f1_score)"
   ]
  },
  {
   "cell_type": "code",
   "execution_count": 27,
   "metadata": {
    "collapsed": false
   },
   "outputs": [
    {
     "name": "stdout",
     "output_type": "stream",
     "text": [
      "Enter the name of the call file name.\n",
      "> \n"
     ]
    },
    {
     "ename": "IOError",
     "evalue": "[Errno 22] invalid mode ('rb') or filename: ''",
     "output_type": "error",
     "traceback": [
      "\u001b[1;31m---------------------------------------------------------------------------\u001b[0m",
      "\u001b[1;31mIOError\u001b[0m                                   Traceback (most recent call last)",
      "\u001b[1;32m<ipython-input-27-77d2fae008aa>\u001b[0m in \u001b[0;36m<module>\u001b[1;34m()\u001b[0m\n\u001b[0;32m      1\u001b[0m \u001b[0mfile_name\u001b[0m \u001b[1;33m=\u001b[0m \u001b[0mraw_input\u001b[0m\u001b[1;33m(\u001b[0m\u001b[1;34m\"Enter the name of the call file name.\\n> \"\u001b[0m\u001b[1;33m)\u001b[0m\u001b[1;33m\u001b[0m\u001b[0m\n\u001b[1;32m----> 2\u001b[1;33m \u001b[0mrate_sig\u001b[0m\u001b[1;33m,\u001b[0m \u001b[0msig\u001b[0m \u001b[1;33m=\u001b[0m \u001b[0mwav\u001b[0m\u001b[1;33m.\u001b[0m\u001b[0mread\u001b[0m\u001b[1;33m(\u001b[0m\u001b[0mfile_name\u001b[0m\u001b[1;33m)\u001b[0m\u001b[1;33m\u001b[0m\u001b[0m\n\u001b[0m\u001b[0;32m      3\u001b[0m \u001b[1;33m\u001b[0m\u001b[0m\n\u001b[0;32m      4\u001b[0m \u001b[0mplt\u001b[0m\u001b[1;33m.\u001b[0m\u001b[0mplot\u001b[0m\u001b[1;33m(\u001b[0m\u001b[0msig\u001b[0m\u001b[1;33m)\u001b[0m\u001b[1;33m\u001b[0m\u001b[0m\n\u001b[0;32m      5\u001b[0m \u001b[0mplt\u001b[0m\u001b[1;33m.\u001b[0m\u001b[0mplot\u001b[0m\u001b[1;33m(\u001b[0m\u001b[1;33m(\u001b[0m\u001b[1;36m0\u001b[0m\u001b[1;33m,\u001b[0m\u001b[0mlen\u001b[0m\u001b[1;33m(\u001b[0m\u001b[0msig\u001b[0m\u001b[1;33m)\u001b[0m\u001b[1;33m)\u001b[0m\u001b[1;33m,\u001b[0m\u001b[1;33m(\u001b[0m\u001b[1;36m0\u001b[0m\u001b[1;33m,\u001b[0m\u001b[1;36m0\u001b[0m\u001b[1;33m)\u001b[0m\u001b[1;33m,\u001b[0m\u001b[1;34m'g'\u001b[0m\u001b[1;33m)\u001b[0m\u001b[1;33m\u001b[0m\u001b[0m\n",
      "\u001b[1;32mC:\\Anaconda2\\lib\\site-packages\\scipy\\io\\wavfile.pyc\u001b[0m in \u001b[0;36mread\u001b[1;34m(filename, mmap)\u001b[0m\n\u001b[0;32m    188\u001b[0m         \u001b[0mmmap\u001b[0m \u001b[1;33m=\u001b[0m \u001b[0mFalse\u001b[0m\u001b[1;33m\u001b[0m\u001b[0m\n\u001b[0;32m    189\u001b[0m     \u001b[1;32melse\u001b[0m\u001b[1;33m:\u001b[0m\u001b[1;33m\u001b[0m\u001b[0m\n\u001b[1;32m--> 190\u001b[1;33m         \u001b[0mfid\u001b[0m \u001b[1;33m=\u001b[0m \u001b[0mopen\u001b[0m\u001b[1;33m(\u001b[0m\u001b[0mfilename\u001b[0m\u001b[1;33m,\u001b[0m \u001b[1;34m'rb'\u001b[0m\u001b[1;33m)\u001b[0m\u001b[1;33m\u001b[0m\u001b[0m\n\u001b[0m\u001b[0;32m    191\u001b[0m \u001b[1;33m\u001b[0m\u001b[0m\n\u001b[0;32m    192\u001b[0m     \u001b[1;32mtry\u001b[0m\u001b[1;33m:\u001b[0m\u001b[1;33m\u001b[0m\u001b[0m\n",
      "\u001b[1;31mIOError\u001b[0m: [Errno 22] invalid mode ('rb') or filename: ''"
     ]
    }
   ],
   "source": [
    "file_name = raw_input(\"Enter the name of the call file name.\\n> \")\n",
    "rate_sig, sig = wav.read(file_name)\n",
    "\n",
    "plt.plot(sig)\n",
    "plt.plot((0,len(sig)),(0,0),'g')\n",
    "plt.show()\n",
    "\n",
    "complete_call_result = final_result(audio_signal = (rate_sig, sig))\n",
    "first_half_result = final_result(audio_signal = (rate_sig, sig[:int(len(sig)/2)]))\n",
    "second_half_result = final_result(audio_signal = (rate_sig, sig[int(len(sig)/2):]))\n",
    "segment_result = []\n",
    "for i in range(int(math.ceil(len(sig)/(rate_sig*20)))):\n",
    "    segment_result.append(final_result(audio_signal = (rate_sig, sig[i*rate_sig*20:i*rate_sig*20+rate_sig*20])))"
   ]
  },
  {
   "cell_type": "code",
   "execution_count": 28,
   "metadata": {
    "collapsed": false,
    "scrolled": false
   },
   "outputs": [
    {
     "ename": "NameError",
     "evalue": "name 'complete_call_result' is not defined",
     "output_type": "error",
     "traceback": [
      "\u001b[1;31m---------------------------------------------------------------------------\u001b[0m",
      "\u001b[1;31mNameError\u001b[0m                                 Traceback (most recent call last)",
      "\u001b[1;32m<ipython-input-28-93469713bf6c>\u001b[0m in \u001b[0;36m<module>\u001b[1;34m()\u001b[0m\n\u001b[0;32m      1\u001b[0m \u001b[1;32mimport\u001b[0m \u001b[0mnumpy\u001b[0m \u001b[1;32mas\u001b[0m \u001b[0mnp\u001b[0m\u001b[1;33m\u001b[0m\u001b[0m\n\u001b[0;32m      2\u001b[0m \u001b[1;32mfrom\u001b[0m \u001b[0m__future__\u001b[0m \u001b[1;32mimport\u001b[0m \u001b[0mdivision\u001b[0m\u001b[1;33m\u001b[0m\u001b[0m\n\u001b[1;32m----> 3\u001b[1;33m \u001b[1;32mprint\u001b[0m \u001b[1;34m\"Overall call result: \"\u001b[0m\u001b[1;33m+\u001b[0m\u001b[0mcomplete_call_result\u001b[0m\u001b[1;33m\u001b[0m\u001b[0m\n\u001b[0m\u001b[0;32m      4\u001b[0m \u001b[1;32mprint\u001b[0m \u001b[1;34m\"Trainsition: \"\u001b[0m\u001b[1;33m+\u001b[0m\u001b[0mfirst_half_result\u001b[0m\u001b[1;33m+\u001b[0m\u001b[1;34m\" --> \"\u001b[0m\u001b[1;33m+\u001b[0m\u001b[0msecond_half_result\u001b[0m\u001b[1;33m\u001b[0m\u001b[0m\n\u001b[0;32m      5\u001b[0m \u001b[0mmap_dict\u001b[0m \u001b[1;33m=\u001b[0m \u001b[1;33m{\u001b[0m\u001b[1;34m'negative'\u001b[0m\u001b[1;33m:\u001b[0m\u001b[1;33m-\u001b[0m\u001b[1;36m1\u001b[0m\u001b[1;33m,\u001b[0m \u001b[1;34m'neutral'\u001b[0m\u001b[1;33m:\u001b[0m\u001b[1;36m0\u001b[0m\u001b[1;33m,\u001b[0m \u001b[1;34m'positive'\u001b[0m\u001b[1;33m:\u001b[0m\u001b[1;36m1\u001b[0m\u001b[1;33m}\u001b[0m\u001b[1;33m\u001b[0m\u001b[0m\n",
      "\u001b[1;31mNameError\u001b[0m: name 'complete_call_result' is not defined"
     ]
    }
   ],
   "source": [
    "import numpy as np\n",
    "from __future__ import division\n",
    "print \"Overall call result: \"+complete_call_result\n",
    "print \"Trainsition: \"+first_half_result+\" --> \"+second_half_result\n",
    "map_dict = {'negative':-1, 'neutral':0, 'positive':1}\n",
    "mapped_segment_result = [map_dict[result] for result in segment_result]\n",
    "index = [i for i in range(len(mapped_segment_result))]\n",
    "index = np.asarray(index)\n",
    "bar_width = 1\n",
    "plt.plot((0,index[-1]+1),((0,0)), 'r')\n",
    "plt.bar(index, mapped_segment_result, bar_width)\n",
    "plt.xticks(index + bar_width/2 , (str(i*20)+'-'+str((i+1)*20) for i in index))\n",
    "plt.xlabel('Time series with 20 seconds chunk')\n",
    "#plt.axes([0, 100, -2, 2])\n",
    "plt.ylabel('Emotion:\\n1 = positive\\n0 = neutral\\n-1 = negative')\n",
    "plt.title('Emotion per 20 second segment')\n",
    "plt.show()"
   ]
  },
  {
   "cell_type": "code",
   "execution_count": 29,
   "metadata": {
    "collapsed": true
   },
   "outputs": [],
   "source": [
    "def plot_confusion_matrix(cm, title='Confusion matrix', cmap=plt.cm.Blues):\n",
    "    plt.imshow(cm, interpolation='nearest', cmap=cmap)\n",
    "    plt.title(title)\n",
    "    plt.colorbar()\n",
    "    tick_marks = np.arange(len(cm))\n",
    "    plt.xticks(tick_marks, ['neutral','positive','negative'], rotation=45)\n",
    "    plt.yticks(tick_marks, ['neutral','positive','negative'])\n",
    "    plt.tight_layout()\n",
    "    plt.ylabel('True label')\n",
    "    plt.xlabel('Predicted label')"
   ]
  },
  {
   "cell_type": "code",
   "execution_count": 30,
   "metadata": {
    "collapsed": false
   },
   "outputs": [
    {
     "name": "stdout",
     "output_type": "stream",
     "text": [
      "[[ 0  0 15]\n",
      " [ 0  0  0]\n",
      " [ 0  0  0]]\n"
     ]
    },
    {
     "data": {
      "image/png": "[encoded data removed]",
      "text/plain": [
       "<matplotlib.figure.Figure at 0xc826bf0>"
      ]
     },
     "metadata": {},
     "output_type": "display_data"
    }
   ],
   "source": [
    "from sklearn.metrics import confusion_matrix\n",
    "cm = confusion_matrix(y_actual, y_pred, labels=['neutral','positive','negative'])\n",
    "print cm\n",
    "plot_confusion_matrix(cm)"
   ]
  },
  {
   "cell_type": "code",
   "execution_count": 31,
   "metadata": {
    "collapsed": false
   },
   "outputs": [
    {
     "data": {
      "text/plain": [
       "0.0"
      ]
     },
     "execution_count": 31,
     "metadata": {},
     "output_type": "execute_result"
    }
   ],
   "source": [
    "len([1 for i in range(len(y_pred)) if y_pred[i]==y_actual[i]])/float(len(y_pred))"
   ]
  },
  {
   "cell_type": "code",
   "execution_count": 32,
   "metadata": {
    "collapsed": false
   },
   "outputs": [
    {
     "data": {
      "text/plain": [
       "'positive'"
      ]
     },
     "execution_count": 32,
     "metadata": {},
     "output_type": "execute_result"
    }
   ],
   "source": [
    "lab[1] "
   ]
  },
  {
   "cell_type": "code",
   "execution_count": null,
   "metadata": {
    "collapsed": true
   },
   "outputs": [],
   "source": []
  },
  {
   "cell_type": "code",
   "execution_count": null,
   "metadata": {
    "collapsed": true
   },
   "outputs": [],
   "source": []
  },
  {
   "cell_type": "code",
   "execution_count": null,
   "metadata": {
    "collapsed": true
   },
   "outputs": [],
   "source": []
  }
 ],
 "metadata": {
  "kernelspec": {
   "display_name": "Python 2",
   "language": "python",
   "name": "python2"
  },
  "language_info": {
   "codemirror_mode": {
    "name": "ipython",
    "version": 2
   },
   "file_extension": ".py",
   "mimetype": "text/x-python",
   "name": "python",
   "nbconvert_exporter": "python",
   "pygments_lexer": "ipython2",
   "version": "2.7.11"
  }
 },
 "nbformat": 4,
 "nbformat_minor": 0
}
