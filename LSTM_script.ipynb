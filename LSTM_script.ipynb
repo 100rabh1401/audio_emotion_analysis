{
 "cells": [
  {
   "cell_type": "code",
   "execution_count": 1,
   "metadata": {
    "collapsed": false
   },
   "outputs": [],
   "source": [
    "from __future__ import division \n",
    "import matplotlib.pyplot as plt\n",
    "%matplotlib inline\n",
    "import emotion_analysis\n",
    "emo = emotion_analysis.EmotionAnalysis()"
   ]
  },
  {
   "cell_type": "code",
   "execution_count": 2,
   "metadata": {
    "collapsed": false
   },
   "outputs": [
    {
     "name": "stdout",
     "output_type": "stream",
     "text": [
      "Read audio file 'tess_data\\YAF_jar_fear.wav.wav', count: 100\n",
      "Read audio file 'tess_data\\YAF_burn_neutral.wav.wav', count: 200\n",
      "Read audio file 'tess_data\\YAF_walk_happy.wav.wav', count: 300\n",
      "Read audio file 'tess_data\\YAF_fall_fear.wav.wav', count: 400\n",
      "Read audio file 'tess_data\\OAF_learn_ps.wav.wav', count: 500\n",
      "Read audio file 'tess_data\\YAF_pad_ps.wav.wav', count: 600\n",
      "Read audio file 'tess_data\\OAF_soap_fear.wav.wav', count: 700\n",
      "Read audio file 'tess_data\\YAF_white_happy.wav.wav', count: 800\n",
      "Read audio file 'tess_data\\YAF_jail_fear.wav.wav', count: 900\n",
      "Read audio file 'tess_data\\OAF_youth_happy.wav.wav', count: 1000\n",
      "Read audio file 'tess_data\\OAF_south_disgust.wav.wav', count: 1100\n",
      "Read audio file 'tess_data\\OAF_moon_fear.wav.wav', count: 1200\n",
      "Read audio file 'tess_data\\YAF_sure_neutral.wav.wav', count: 1300\n",
      "Read audio file 'tess_data\\OAF_ripe_fear.wav.wav', count: 1400\n",
      "Read audio file 'tess_data\\OAF_void_angry.wav.wav', count: 1500\n",
      "Read audio file 'tess_data\\YAF_pole_sad.wav.wav', count: 1600\n",
      "Skipping audio file 'tess_data\\YAF_neat_fear.wav.wav'\n",
      "Read audio file 'tess_data\\YAF_wire_fear.wav.wav', count: 1700\n",
      "Read audio file 'tess_data\\OAF_pearl_ps.wav.wav', count: 1800\n",
      "Read audio file 'tess_data\\YAF_kick_disgust.wav.wav', count: 1900\n",
      "Read audio file 'tess_data\\YAF_rough_ps.wav.wav', count: 2000\n",
      "Read audio file 'tess_data\\YAF_gin_fear.wav.wav', count: 2100\n",
      "Skipping audio file 'tess_data\\YAF_germ_angry.wav.wav'\n",
      "Read audio file 'tess_data\\OAF_room_disgust.wav.wav', count: 2200\n",
      "Read audio file 'tess_data\\YAF_mode_sad.wav.wav', count: 2300\n",
      "Read audio file 'tess_data\\OAF_youth_disgust.wav.wav', count: 2400\n",
      "Read audio file 'tess_data\\OAF_date_neutral.wav.wav', count: 2500\n",
      "Read audio file 'tess_data\\YAF_sheep_happy.wav.wav', count: 2600\n",
      "Read audio file 'tess_data\\YAF_gas_happy.wav.wav', count: 2700\n"
     ]
    }
   ],
   "source": [
    "inp, lab = emo.prepare_dataset_per_frame('tess_data')"
   ]
  },
  {
   "cell_type": "code",
   "execution_count": 4,
   "metadata": {
    "collapsed": false
   },
   "outputs": [
    {
     "data": {
      "text/plain": [
       "Counter({'negative': 168827, 'neutral': 81618, 'positive': 158529})"
      ]
     },
     "execution_count": 4,
     "metadata": {},
     "output_type": "execute_result"
    }
   ],
   "source": [
    "from collections import Counter\n",
    "Counter(lab)"
   ]
  },
  {
   "cell_type": "code",
   "execution_count": 5,
   "metadata": {
    "collapsed": false
   },
   "outputs": [],
   "source": [
    "#from random import shuffle\n",
    "import numpy as np\n",
    "#dataset = zip(inp, lab)\n",
    "#shuffle(dataset)\n",
    "#inp, lab = zip(*dataset)\n",
    "max_value = max([max(i) for i in inp])\n",
    "min_value = min([min(i) for i in inp])\n",
    "\n",
    "#inp = inp[:100000]\n",
    "#lab = lab[:100000]\n",
    "\n",
    "#normalised_inp = np.asarray(inp)/max_value\n",
    "inp = (np.asarray(inp)-min_value)/(max_value-min_value)"
   ]
  },
  {
   "cell_type": "code",
   "execution_count": 6,
   "metadata": {
    "collapsed": false
   },
   "outputs": [],
   "source": [
    "from pybrain.structure.modules import LSTMLayer, SoftmaxLayer, TanhLayer\n",
    "from pybrain.supervised import RPropMinusTrainer, BackpropTrainer\n",
    "from pybrain.tools.shortcuts import buildNetwork\n",
    "from pybrain.datasets import SequenceClassificationDataSet, ClassificationDataSet"
   ]
  },
  {
   "cell_type": "code",
   "execution_count": 7,
   "metadata": {
    "collapsed": false
   },
   "outputs": [],
   "source": [
    "lab_to_int = {'neutral':0, 'positive':1, 'negative':2}\n",
    "int_to_lab = {0:'neutral', 1:'positive', 2:'negative'}\n",
    "traindata = ClassificationDataSet(len(inp[0]), 1, nb_classes = 3)\n",
    "#for i in range(int(len(inp)*3/4)):\n",
    "for i in range(int(len(inp))):\n",
    "    traindata.addSample(inp[i],lab_to_int[lab[i]])"
   ]
  },
  {
   "cell_type": "code",
   "execution_count": 8,
   "metadata": {
    "collapsed": false
   },
   "outputs": [],
   "source": [
    "traindata._convertToOneOfMany()"
   ]
  },
  {
   "cell_type": "code",
   "execution_count": 9,
   "metadata": {
    "collapsed": false
   },
   "outputs": [],
   "source": [
    "rnn = buildNetwork(traindata.indim, 10, traindata.outdim, hiddenclass = LSTMLayer, outclass = SoftmaxLayer, recurrent = True)\n",
    "trainer = RPropMinusTrainer(rnn, dataset = traindata, verbose = True)\n",
    "error = []\n",
    "#counter = 0"
   ]
  },
  {
   "cell_type": "code",
   "execution_count": 10,
   "metadata": {
    "collapsed": false,
    "scrolled": false
   },
   "outputs": [
    {
     "name": "stdout",
     "output_type": "stream",
     "text": [
      "epoch      0  total error      0.10972   avg weight        1.0099\n",
      "epoch      1  total error      0.10731   avg weight        1.0097\n",
      "epoch      2  total error      0.12567   avg weight        1.0101\n",
      "epoch      3  total error      0.10642   avg weight         1.009\n",
      "epoch      4  total error      0.10799   avg weight         1.012\n",
      "epoch      5  total error      0.10716   avg weight        1.0134\n",
      "epoch      6  total error      0.10664   avg weight        1.0105\n",
      "epoch      7  total error      0.10648   avg weight        1.0112\n",
      "epoch      8  total error       0.1061   avg weight        1.0101\n",
      "epoch      9  total error      0.10598   avg weight        1.0106\n",
      "epoch     10  total error      0.10584   avg weight        1.0103\n",
      "epoch     11  total error      0.10611   avg weight        1.0107\n",
      "epoch     12  total error      0.10559   avg weight        1.0104\n",
      "epoch     13  total error      0.10538   avg weight        1.0106\n",
      "epoch     14  total error      0.10509   avg weight         1.011\n",
      "epoch     15  total error      0.10477   avg weight        1.0113\n",
      "epoch     16  total error      0.10438   avg weight         1.012\n",
      "epoch     17  total error      0.10406   avg weight        1.0129\n",
      "epoch     18  total error      0.10379   avg weight        1.0141\n",
      "epoch     19  total error      0.10354   avg weight        1.0151\n",
      "epoch     20  total error      0.10377   avg weight        1.0168\n",
      "epoch     21  total error      0.10364   avg weight         1.015\n",
      "epoch     22  total error      0.10354   avg weight        1.0159\n",
      "epoch     23  total error      0.10339   avg weight        1.0168\n",
      "epoch     24  total error      0.10325   avg weight        1.0182\n",
      "epoch     25  total error      0.10316   avg weight        1.0205\n",
      "epoch     26  total error      0.10308   avg weight        1.0212\n",
      "epoch     27  total error      0.10327   avg weight        1.0231\n",
      "epoch     28  total error      0.10306   avg weight        1.0231\n",
      "epoch     29  total error      0.10299   avg weight        1.0258\n",
      "epoch     30  total error      0.10289   avg weight        1.0288\n",
      "epoch     31  total error      0.10279   avg weight        1.0335\n",
      "epoch     32  total error      0.10266   avg weight        1.0401\n",
      "epoch     33  total error      0.10252   avg weight        1.0447\n",
      "epoch     34  total error      0.10234   avg weight        1.0514\n",
      "epoch     35  total error      0.10215   avg weight        1.0607\n",
      "epoch     36  total error      0.10193   avg weight        1.0553\n",
      "epoch     37  total error      0.10173   avg weight        1.0612\n",
      "epoch     38  total error      0.10207   avg weight        1.0695\n",
      "epoch     39  total error      0.10185   avg weight        1.0646\n",
      "epoch     40  total error      0.10215   avg weight        1.0641\n",
      "epoch     41  total error      0.10176   avg weight        1.0686\n",
      "epoch     42  total error      0.10173   avg weight         1.064\n",
      "epoch     43  total error      0.10163   avg weight        1.0667\n",
      "epoch     44  total error      0.10159   avg weight         1.068\n",
      "epoch     45  total error      0.10156   avg weight        1.0671\n",
      "epoch     46  total error      0.10154   avg weight        1.0686\n",
      "epoch     47  total error       0.1015   avg weight        1.0704\n",
      "epoch     48  total error      0.10145   avg weight        1.0715\n",
      "epoch     49  total error       0.1014   avg weight        1.0749\n",
      "epoch     50  total error      0.10134   avg weight        1.0784\n",
      "epoch     51  total error      0.10129   avg weight        1.0841\n",
      "epoch     52  total error      0.10139   avg weight        1.0787\n",
      "epoch     53  total error      0.10126   avg weight        1.0809\n",
      "epoch     54  total error       0.1012   avg weight        1.0849\n",
      "epoch     55  total error       0.1012   avg weight        1.0814\n",
      "epoch     56  total error      0.10114   avg weight        1.0841\n",
      "epoch     57  total error      0.10109   avg weight        1.0869\n",
      "epoch     58  total error      0.10107   avg weight        1.0854\n",
      "epoch     59  total error      0.10101   avg weight        1.0872\n",
      "epoch     60  total error      0.10094   avg weight        1.0896\n",
      "epoch     61  total error      0.10088   avg weight        1.0899\n",
      "epoch     62  total error       0.1008   avg weight        1.0927\n",
      "epoch     63  total error      0.10074   avg weight        1.0915\n",
      "epoch     64  total error      0.10062   avg weight        1.0943\n",
      "epoch     65  total error      0.10051   avg weight        1.0971\n",
      "epoch     66  total error      0.10066   avg weight        1.0975\n",
      "epoch     67  total error      0.10048   avg weight        1.1015\n",
      "epoch     68  total error      0.10055   avg weight        1.0973\n",
      "epoch     69  total error      0.10047   avg weight        1.0993\n",
      "epoch     70  total error      0.10042   avg weight        1.1012\n",
      "epoch     71  total error      0.10037   avg weight        1.1035\n",
      "epoch     72  total error       0.1003   avg weight        1.1073\n",
      "epoch     73  total error       0.1003   avg weight        1.1108\n",
      "epoch     74  total error      0.10021   avg weight        1.1171\n",
      "epoch     75  total error      0.10016   avg weight        1.1249\n",
      "epoch     76  total error      0.10006   avg weight        1.1176\n",
      "epoch     77  total error     0.099947   avg weight        1.1232\n",
      "epoch     78  total error     0.099718   avg weight        1.1298\n",
      "epoch     79  total error      0.10001   avg weight        1.1385\n",
      "epoch     80  total error      0.10073   avg weight        1.1322\n",
      "epoch     81  total error     0.099582   avg weight         1.134\n",
      "epoch     82  total error      0.10019   avg weight        1.1381\n",
      "epoch     83  total error     0.099633   avg weight         1.134\n",
      "epoch     84  total error     0.099553   avg weight        1.1313\n",
      "epoch     85  total error     0.099573   avg weight        1.1294\n",
      "epoch     86  total error     0.099464   avg weight        1.1309\n",
      "epoch     87  total error     0.099422   avg weight        1.1321\n",
      "epoch     88  total error      0.09937   avg weight        1.1338\n",
      "epoch     89  total error     0.099328   avg weight        1.1355\n",
      "epoch     90  total error     0.099254   avg weight        1.1376\n",
      "epoch     91  total error     0.099176   avg weight        1.1361\n",
      "epoch     92  total error     0.099071   avg weight        1.1386\n",
      "epoch     93  total error     0.098893   avg weight        1.1419\n",
      "epoch     94  total error     0.099013   avg weight        1.1431\n",
      "epoch     95  total error     0.098885   avg weight        1.1415\n",
      "epoch     96  total error     0.098748   avg weight         1.144\n",
      "epoch     97  total error     0.098743   avg weight        1.1448\n",
      "epoch     98  total error     0.098719   avg weight        1.1447\n",
      "epoch     99  total error     0.098557   avg weight        1.1476\n"
     ]
    }
   ],
   "source": [
    "for i in range(100):\n",
    "    #print \"Epoch: \"+str(counter)\n",
    "    error.append(trainer.train())\n",
    "    #print \"\"\n",
    "    #counter += 1"
   ]
  },
  {
   "cell_type": "code",
   "execution_count": 11,
   "metadata": {
    "collapsed": false
   },
   "outputs": [
    {
     "data": {
      "image/png": "[encoded data removed]",
      "text/plain": [
       "<matplotlib.figure.Figure at 0x6101290>"
      ]
     },
     "metadata": {},
     "output_type": "display_data"
    }
   ],
   "source": [
    "x=[i for i in range(len(error))]\n",
    "plt.plot(x, error)\n",
    "plt.show()"
   ]
  },
  {
   "cell_type": "code",
   "execution_count": 12,
   "metadata": {
    "collapsed": true
   },
   "outputs": [],
   "source": [
    "import feature_extractor\n",
    "import scipy.io.wavfile as wav\n",
    "import math\n",
    "\n",
    "extractor = feature_extractor.FeatureExtractor()\n",
    "\n",
    "def final_result(audio_signal):\n",
    "    all_result = []\n",
    "    for frame_feature in extractor.extract_features_per_frame(audio_signal = audio_signal):\n",
    "        frame_feature = (np.asarray(frame_feature)-min_value)/(max_value-min_value)\n",
    "        frame_result = int_to_lab[rnn.activate(frame_feature).argmax()]\n",
    "        all_result.append(frame_result)\n",
    "    label_counts = Counter(all_result)\n",
    "    print label_counts\n",
    "    return max(label_counts, key = label_counts.get)"
   ]
  },
  {
   "cell_type": "code",
   "execution_count": null,
   "metadata": {
    "collapsed": false,
    "scrolled": true
   },
   "outputs": [],
   "source": [
    "from os import listdir\n",
    "from os.path import isfile, join\n",
    "import scipy.io.wavfile as wav\n",
    "\n",
    "path = 'tess_data'\n",
    "\n",
    "y_pred=[]\n",
    "y_actual=[]\n",
    "\n",
    "audio_files = [f for f in listdir(path) if isfile(join(path, f))]\n",
    "for audio_file in audio_files[:100]:\n",
    "    y_pred.append(final_result(audio_signal = wav.read(join(path, audio_file))))\n",
    "    y_actual.append(audio_file.split('_')[2].split('.')[0])"
   ]
  },
  {
   "cell_type": "code",
   "execution_count": null,
   "metadata": {
    "collapsed": false
   },
   "outputs": [],
   "source": [
    "import sys\n",
    "sys.getsizeof(trainer)"
   ]
  },
  {
   "cell_type": "code",
   "execution_count": null,
   "metadata": {
    "collapsed": false
   },
   "outputs": [],
   "source": [
    "from sklearn.metrics import precision_recall_fscore_support\n",
    "precision, recall, f1_score, _ = precision_recall_fscore_support(y_actual, y_pred, labels=['neutral','positive','negative'])\n",
    "print \"Precision = \"+str(precision)+\"\\nRecall = \"+str(recall)+\"\\nF1 Score = \"+str(f1_score)"
   ]
  },
  {
   "cell_type": "code",
   "execution_count": null,
   "metadata": {
    "collapsed": false
   },
   "outputs": [],
   "source": [
    "file_name = raw_input(\"Enter the name of the call file name.\\n> \")\n",
    "rate_sig, sig = wav.read(file_name)\n",
    "\n",
    "plt.plot(sig)\n",
    "plt.plot((0,len(sig)),(0,0),'g')\n",
    "plt.show()\n",
    "\n",
    "complete_call_result = final_result(audio_signal = (rate_sig, sig))\n",
    "first_half_result = final_result(audio_signal = (rate_sig, sig[:int(len(sig)/2)]))\n",
    "second_half_result = final_result(audio_signal = (rate_sig, sig[int(len(sig)/2):]))\n",
    "segment_result = []\n",
    "for i in range(int(math.ceil(len(sig)/(rate_sig*20)))):\n",
    "    segment_result.append(final_result(audio_signal = (rate_sig, sig[i*rate_sig*20:i*rate_sig*20+rate_sig*20])))"
   ]
  },
  {
   "cell_type": "code",
   "execution_count": null,
   "metadata": {
    "collapsed": false,
    "scrolled": false
   },
   "outputs": [],
   "source": [
    "import numpy as np\n",
    "from __future__ import division\n",
    "print \"Overall call result: \"+complete_call_result\n",
    "print \"Trainsition: \"+first_half_result+\" --> \"+second_half_result\n",
    "map_dict = {'negative':-1, 'neutral':0, 'positive':1}\n",
    "mapped_segment_result = [map_dict[result] for result in segment_result]\n",
    "index = [i for i in range(len(mapped_segment_result))]\n",
    "index = np.asarray(index)\n",
    "bar_width = 1\n",
    "plt.plot((0,index[-1]+1),((0,0)), 'r')\n",
    "plt.bar(index, mapped_segment_result, bar_width)\n",
    "plt.xticks(index + bar_width/2 , (str(i*20)+'-'+str((i+1)*20) for i in index))\n",
    "plt.xlabel('Time series with 20 seconds chunk')\n",
    "#plt.axes([0, 100, -2, 2])\n",
    "plt.ylabel('Emotion:\\n1 = positive\\n0 = neutral\\n-1 = negative')\n",
    "plt.title('Emotion per 20 second segment')\n",
    "plt.show()"
   ]
  },
  {
   "cell_type": "code",
   "execution_count": null,
   "metadata": {
    "collapsed": true
   },
   "outputs": [],
   "source": [
    "def plot_confusion_matrix(cm, title='Confusion matrix', cmap=plt.cm.Blues):\n",
    "    plt.imshow(cm, interpolation='nearest', cmap=cmap)\n",
    "    plt.title(title)\n",
    "    plt.colorbar()\n",
    "    tick_marks = np.arange(len(cm))\n",
    "    plt.xticks(tick_marks, ['neutral','positive','negative'], rotation=45)\n",
    "    plt.yticks(tick_marks, ['neutral','positive','negative'])\n",
    "    plt.tight_layout()\n",
    "    plt.ylabel('True label')\n",
    "    plt.xlabel('Predicted label')"
   ]
  },
  {
   "cell_type": "code",
   "execution_count": null,
   "metadata": {
    "collapsed": false
   },
   "outputs": [],
   "source": [
    "from sklearn.metrics import confusion_matrix\n",
    "cm = confusion_matrix(y_actual, y_pred, labels=['neutral','positive','negative'])\n",
    "print cm\n",
    "plot_confusion_matrix(cm)"
   ]
  },
  {
   "cell_type": "code",
   "execution_count": null,
   "metadata": {
    "collapsed": false
   },
   "outputs": [],
   "source": [
    "len([1 for i in range(len(y_pred)) if y_pred[i]==y_actual[i]])/float(len(y_pred))"
   ]
  },
  {
   "cell_type": "code",
   "execution_count": null,
   "metadata": {
    "collapsed": false
   },
   "outputs": [],
   "source": [
    "lab[1] "
   ]
  },
  {
   "cell_type": "code",
   "execution_count": null,
   "metadata": {
    "collapsed": true
   },
   "outputs": [],
   "source": []
  },
  {
   "cell_type": "code",
   "execution_count": null,
   "metadata": {
    "collapsed": true
   },
   "outputs": [],
   "source": []
  },
  {
   "cell_type": "code",
   "execution_count": null,
   "metadata": {
    "collapsed": true
   },
   "outputs": [],
   "source": []
  }
 ],
 "metadata": {
  "kernelspec": {
   "display_name": "Python 2",
   "language": "python",
   "name": "python2"
  },
  "language_info": {
   "codemirror_mode": {
    "name": "ipython",
    "version": 2
   },
   "file_extension": ".py",
   "mimetype": "text/x-python",
   "name": "python",
   "nbconvert_exporter": "python",
   "pygments_lexer": "ipython2",
   "version": "2.7.11"
  }
 },
 "nbformat": 4,
 "nbformat_minor": 0
}
