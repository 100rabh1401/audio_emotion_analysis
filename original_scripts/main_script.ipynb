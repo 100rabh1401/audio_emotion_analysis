{
 "cells": [
  {
   "cell_type": "markdown",
   "metadata": {},
   "source": [
    "# This part is basically for testing the various classifers and program formulation"
   ]
  },
  {
   "cell_type": "code",
   "execution_count": 13,
   "metadata": {
    "collapsed": false
   },
   "outputs": [],
   "source": [
    "%matplotlib inline\n",
    "import matplotlib.pyplot as plt\n",
    "import emotion_analysis"
   ]
  },
  {
   "cell_type": "code",
   "execution_count": 17,
   "metadata": {
    "collapsed": false
   },
   "outputs": [],
   "source": [
    "Emotion = emotion_analysis.EmotionAnalysis()"
   ]
  },
  {
   "cell_type": "code",
   "execution_count": 18,
   "metadata": {
    "collapsed": false,
    "scrolled": true
   },
   "outputs": [
    {
     "name": "stdout",
     "output_type": "stream",
     "text": [
      "Loaded audio files, count: 100\n",
      "Loaded audio files, count: 200\n",
      "Loaded audio files, count: 300\n",
      "Loaded audio files, count: 400\n",
      "Loaded audio files, count: 500\n"
     ]
    }
   ],
   "source": [
    "inp, lab = Emotion.prepare_dataset('data')"
   ]
  },
  {
   "cell_type": "code",
   "execution_count": 19,
   "metadata": {
    "collapsed": false
   },
   "outputs": [],
   "source": [
    "from random import shuffle\n",
    "import numpy as np\n",
    "dataset = zip(inp, lab)\n",
    "shuffle(dataset)\n",
    "inp, lab = zip(*dataset)\n",
    "import sklearn.preprocessing\n",
    "#scaler = sklearn.preprocessing.StandardScaler().fit(inp)\n",
    "#inp = scaler.transform(inp)"
   ]
  },
  {
   "cell_type": "code",
   "execution_count": 20,
   "metadata": {
    "collapsed": false
   },
   "outputs": [],
   "source": [
    "Emotion.write_to_csv(inp, lab, 'dataset.csv')"
   ]
  },
  {
   "cell_type": "code",
   "execution_count": 21,
   "metadata": {
    "collapsed": false,
    "scrolled": false
   },
   "outputs": [],
   "source": [
    "# Random Forest : Better performance\n",
    "from sklearn import cross_validation\n",
    "from sklearn.ensemble import RandomForestClassifier\n",
    "clf = RandomForestClassifier(n_estimators=1000, max_depth = 100000, n_jobs = -1, oob_score = True, min_samples_split = 10 )\n",
    "scores = cross_validation.cross_val_score(clf, inp, lab, cv=5)\n",
    "clf = clf.fit(inp[0:int(len(inp)*3/float(4))],lab[0:int(len(inp)*3/float(4))])\n",
    "#clf = clf.fit(inp, lab)"
   ]
  },
  {
   "cell_type": "code",
   "execution_count": 22,
   "metadata": {
    "collapsed": false
   },
   "outputs": [
    {
     "name": "stdout",
     "output_type": "stream",
     "text": [
      "0.557291666667\n",
      "0.0109569170044\n",
      "0.0019442956653\n",
      "['negative' 'neutral' 'positive']\n"
     ]
    }
   ],
   "source": [
    "scores.mean()\n",
    "print clf.oob_score_\n",
    "print max(clf.feature_importances_)\n",
    "print min(clf.feature_importances_)\n",
    "print clf.classes_"
   ]
  },
  {
   "cell_type": "code",
   "execution_count": 23,
   "metadata": {
    "collapsed": true
   },
   "outputs": [],
   "source": [
    "# KNN classifier : Good performance\n",
    "\n",
    "#from sklearn.neighbors import KNeighborsClassifier\n",
    "#clf = KNeighborsClassifier()\n",
    "#clf = clf.fit(inp[0:int(len(inp)*3/float(4))],lab[0:int(len(inp)*3/float(4))])\n",
    "#clf = clf.fit(inp, lab)"
   ]
  },
  {
   "cell_type": "code",
   "execution_count": 24,
   "metadata": {
    "collapsed": false
   },
   "outputs": [],
   "source": [
    "# SVM with RBF : Worst performance\n",
    "\n",
    "#from sklearn import svm\n",
    "#clf = svm.SVC(kernel = 'rbf')\n",
    "#clf = clf.fit(inp[0:int(len(inp)*3/float(4))],lab[0:int(len(inp)*3/float(4))])\n",
    "#clf = clf.fit(inp, lab)"
   ]
  },
  {
   "cell_type": "code",
   "execution_count": 25,
   "metadata": {
    "collapsed": true
   },
   "outputs": [],
   "source": [
    "# Naive Bayes Classifier : Poor performance\n",
    "\n",
    "#from sklearn.naive_bayes import GaussianNB\n",
    "#clf = GaussianNB()\n",
    "#clf = clf.fit(inp[0:int(len(inp)*3/float(4))],lab[0:int(len(inp)*3/float(4))])"
   ]
  },
  {
   "cell_type": "code",
   "execution_count": 50,
   "metadata": {
    "collapsed": false
   },
   "outputs": [],
   "source": [
    "pred_lab = clf.predict(inp[int(len(inp)*3/float(4)):])\n",
    "act_lab = lab[int(len(inp)*3/float(4)):]\n",
    "#pred_lab = clf.predict(inp)\n",
    "#act_lab = lab"
   ]
  },
  {
   "cell_type": "code",
   "execution_count": 47,
   "metadata": {
    "collapsed": false
   },
   "outputs": [
    {
     "name": "stdout",
     "output_type": "stream",
     "text": [
      "Accuracy = 0.9921875\n"
     ]
    }
   ],
   "source": [
    "import numpy as np\n",
    "from __future__ import division\n",
    "accuracy = np.sum([1 for i in range(len(pred_lab)) if pred_lab[i]==act_lab[i]])/len(pred_lab)\n",
    "print \"Accuracy = \"+str(accuracy)"
   ]
  },
  {
   "cell_type": "code",
   "execution_count": 48,
   "metadata": {
    "collapsed": false
   },
   "outputs": [
    {
     "name": "stdout",
     "output_type": "stream",
     "text": [
      "Precision = [ 0.99090909  0.9921875   0.99315068]\n",
      "Recall = [ 1.          0.98449612  0.99315068]\n",
      "F1 Score = [ 0.99543379  0.98832685  0.99315068]\n"
     ]
    }
   ],
   "source": [
    "from sklearn.metrics import precision_recall_fscore_support\n",
    "precision, recall, f1_score, _ = precision_recall_fscore_support(act_lab, pred_lab)\n",
    "print \"Precision = \"+str(precision)+\"\\nRecall = \"+str(recall)+\"\\nF1 Score = \"+str(f1_score)"
   ]
  },
  {
   "cell_type": "code",
   "execution_count": 37,
   "metadata": {
    "collapsed": false
   },
   "outputs": [
    {
     "name": "stdout",
     "output_type": "stream",
     "text": [
      "Actual    = Counter({'neutral': 45, 'negative': 45, 'positive': 39})\n",
      "Predicted = Counter({'positive': 61, 'neutral': 36, 'negative': 32})\n"
     ]
    }
   ],
   "source": [
    "import collections\n",
    "print \"Actual    = \"+str(collections.Counter(act_lab))\n",
    "print \"Predicted = \"+str(collections.Counter(pred_lab))"
   ]
  },
  {
   "cell_type": "code",
   "execution_count": 30,
   "metadata": {
    "collapsed": false
   },
   "outputs": [
    {
     "data": {
      "text/plain": [
       "[array([ 0.8943662 ,  0.90243902,  0.82608696]),\n",
       " array([ 0.82467532,  0.85057471,  0.92432432]),\n",
       " array([ 0.85810811,  0.87573964,  0.87244898])]"
      ]
     },
     "execution_count": 30,
     "metadata": {},
     "output_type": "execute_result"
    }
   ],
   "source": [
    "Emotion.test_classifier(clf, [inp, lab])"
   ]
  },
  {
   "cell_type": "code",
   "execution_count": 31,
   "metadata": {
    "collapsed": false
   },
   "outputs": [
    {
     "ename": "IOError",
     "evalue": "[Errno 2] No such file or directory: 'negative_1.wav'",
     "output_type": "error",
     "traceback": [
      "\u001b[1;31m---------------------------------------------------------------------------\u001b[0m",
      "\u001b[1;31mIOError\u001b[0m                                   Traceback (most recent call last)",
      "\u001b[1;32m<ipython-input-31-ef8227dcac8e>\u001b[0m in \u001b[0;36m<module>\u001b[1;34m()\u001b[0m\n\u001b[1;32m----> 1\u001b[1;33m \u001b[0mEmotion\u001b[0m\u001b[1;33m.\u001b[0m\u001b[0mevaluate\u001b[0m\u001b[1;33m(\u001b[0m\u001b[0mclf\u001b[0m\u001b[1;33m,\u001b[0m \u001b[1;34m'negative_1.wav'\u001b[0m\u001b[1;33m)\u001b[0m\u001b[1;33m\u001b[0m\u001b[0m\n\u001b[0m",
      "\u001b[1;32mD:\\Projects\\Emotion_Analysis\\EmotionAnalyser\\original_scripts\\emotion_analysis.pyc\u001b[0m in \u001b[0;36mevaluate\u001b[1;34m(self, classifier, audio_file, audio_signal)\u001b[0m\n\u001b[0;32m    151\u001b[0m \t\t'''\n\u001b[0;32m    152\u001b[0m                 \u001b[1;32mif\u001b[0m \u001b[0maudio_file\u001b[0m \u001b[1;32mis\u001b[0m \u001b[1;32mnot\u001b[0m \u001b[0mNone\u001b[0m\u001b[1;33m:\u001b[0m\u001b[1;33m\u001b[0m\u001b[0m\n\u001b[1;32m--> 153\u001b[1;33m                         \u001b[0maudio_features\u001b[0m \u001b[1;33m=\u001b[0m \u001b[0mself\u001b[0m\u001b[1;33m.\u001b[0m\u001b[0mextractor\u001b[0m\u001b[1;33m.\u001b[0m\u001b[0mextract_features\u001b[0m\u001b[1;33m(\u001b[0m\u001b[0maudio_file\u001b[0m \u001b[1;33m=\u001b[0m \u001b[0maudio_file\u001b[0m\u001b[1;33m)\u001b[0m\u001b[1;33m\u001b[0m\u001b[0m\n\u001b[0m\u001b[0;32m    154\u001b[0m                 \u001b[1;32melse\u001b[0m\u001b[1;33m:\u001b[0m\u001b[1;33m\u001b[0m\u001b[0m\n\u001b[0;32m    155\u001b[0m                         \u001b[0maudio_features\u001b[0m \u001b[1;33m=\u001b[0m \u001b[0mself\u001b[0m\u001b[1;33m.\u001b[0m\u001b[0mextractor\u001b[0m\u001b[1;33m.\u001b[0m\u001b[0mextract_features\u001b[0m\u001b[1;33m(\u001b[0m\u001b[0maudio_signal\u001b[0m \u001b[1;33m=\u001b[0m \u001b[0maudio_signal\u001b[0m\u001b[1;33m)\u001b[0m\u001b[1;33m\u001b[0m\u001b[0m\n",
      "\u001b[1;32mD:\\Projects\\Emotion_Analysis\\EmotionAnalyser\\original_scripts\\feature_extractor.py\u001b[0m in \u001b[0;36mextract_features\u001b[1;34m(self, audio_file, audio_signal)\u001b[0m\n\u001b[0;32m     36\u001b[0m                 \u001b[0mfinal_features\u001b[0m \u001b[1;33m=\u001b[0m \u001b[1;33m[\u001b[0m\u001b[1;33m]\u001b[0m\u001b[1;33m\u001b[0m\u001b[0m\n\u001b[0;32m     37\u001b[0m                 \u001b[1;32mif\u001b[0m \u001b[0maudio_file\u001b[0m \u001b[1;32mis\u001b[0m \u001b[1;32mnot\u001b[0m \u001b[0mNone\u001b[0m\u001b[1;33m:\u001b[0m\u001b[1;33m\u001b[0m\u001b[0m\n\u001b[1;32m---> 38\u001b[1;33m                         \u001b[0maudio_signal\u001b[0m \u001b[1;33m=\u001b[0m \u001b[0mwav\u001b[0m\u001b[1;33m.\u001b[0m\u001b[0mread\u001b[0m\u001b[1;33m(\u001b[0m\u001b[0maudio_file\u001b[0m\u001b[1;33m)\u001b[0m\u001b[1;33m\u001b[0m\u001b[0m\n\u001b[0m\u001b[0;32m     39\u001b[0m                         \u001b[0mframes_features\u001b[0m \u001b[1;33m=\u001b[0m \u001b[0mself\u001b[0m\u001b[1;33m.\u001b[0m\u001b[0mextract_frames_features\u001b[0m\u001b[1;33m(\u001b[0m\u001b[0maudio_signal\u001b[0m\u001b[1;33m)\u001b[0m\u001b[1;33m\u001b[0m\u001b[0m\n\u001b[0;32m     40\u001b[0m                 \u001b[1;32melse\u001b[0m\u001b[1;33m:\u001b[0m\u001b[1;33m\u001b[0m\u001b[0m\n",
      "\u001b[1;32mC:\\Anaconda2\\lib\\site-packages\\scipy\\io\\wavfile.pyc\u001b[0m in \u001b[0;36mread\u001b[1;34m(filename, mmap)\u001b[0m\n\u001b[0;32m    188\u001b[0m         \u001b[0mmmap\u001b[0m \u001b[1;33m=\u001b[0m \u001b[0mFalse\u001b[0m\u001b[1;33m\u001b[0m\u001b[0m\n\u001b[0;32m    189\u001b[0m     \u001b[1;32melse\u001b[0m\u001b[1;33m:\u001b[0m\u001b[1;33m\u001b[0m\u001b[0m\n\u001b[1;32m--> 190\u001b[1;33m         \u001b[0mfid\u001b[0m \u001b[1;33m=\u001b[0m \u001b[0mopen\u001b[0m\u001b[1;33m(\u001b[0m\u001b[0mfilename\u001b[0m\u001b[1;33m,\u001b[0m \u001b[1;34m'rb'\u001b[0m\u001b[1;33m)\u001b[0m\u001b[1;33m\u001b[0m\u001b[0m\n\u001b[0m\u001b[0;32m    191\u001b[0m \u001b[1;33m\u001b[0m\u001b[0m\n\u001b[0;32m    192\u001b[0m     \u001b[1;32mtry\u001b[0m\u001b[1;33m:\u001b[0m\u001b[1;33m\u001b[0m\u001b[0m\n",
      "\u001b[1;31mIOError\u001b[0m: [Errno 2] No such file or directory: 'negative_1.wav'"
     ]
    }
   ],
   "source": [
    "Emotion.evaluate(clf, 'negative_1.wav')"
   ]
  },
  {
   "cell_type": "markdown",
   "metadata": {},
   "source": [
    "##  The following part can be used to predict emotion for a recorded voice and a new audio file"
   ]
  },
  {
   "cell_type": "code",
   "execution_count": null,
   "metadata": {
    "collapsed": false
   },
   "outputs": [],
   "source": [
    "#To accept an audio data and predict its emotion\n",
    "import pyaudio\n",
    "import wave\n",
    "import scipy.io.wavfile as wav\n",
    "\n",
    "FORMAT = pyaudio.paInt16\n",
    "CHANNELS = 1\n",
    "RATE = 44100\n",
    "CHUNK = 1024\n",
    "RECORD_SECONDS = 10\n",
    "WAVE_OUTPUT_FILENAME = \"file.wav\"\n",
    " \n",
    "audio = pyaudio.PyAudio()\n",
    " \n",
    "# start Recording\n",
    "stream = audio.open(format=FORMAT, channels=CHANNELS,\n",
    "                rate=RATE, input=True,\n",
    "                frames_per_buffer=CHUNK)\n",
    "print \"recording...\"\n",
    "frames = []\n",
    " \n",
    "for i in range(0, int(RATE / CHUNK * RECORD_SECONDS)):\n",
    "    data = stream.read(CHUNK)\n",
    "    frames.append(data)\n",
    "print \"finished recording\"\n",
    " \n",
    " \n",
    "# stop Recording\n",
    "stream.stop_stream()\n",
    "stream.close()\n",
    "audio.terminate()\n",
    " \n",
    "waveFile = wave.open(WAVE_OUTPUT_FILENAME, 'wb')\n",
    "waveFile.setnchannels(CHANNELS)\n",
    "waveFile.setsampwidth(audio.get_sample_size(FORMAT))\n",
    "waveFile.setframerate(RATE)\n",
    "waveFile.writeframes(b''.join(frames))\n",
    "waveFile.close()\n",
    "\n",
    "import feature_extractor\n",
    "Extractor = feature_extractor.FeatureExtractor()\n",
    "f = Extractor.extract_features('file.wav')\n",
    "\n",
    "plt.plot(wav.read('file.wav')[1])\n",
    "plt.show()\n",
    "\n",
    "clf.predict([f])"
   ]
  },
  {
   "cell_type": "code",
   "execution_count": null,
   "metadata": {
    "collapsed": false
   },
   "outputs": [],
   "source": [
    "#To read an audio file and predict its emotion \n",
    "import feature_extractor\n",
    "Extractor = feature_extractor.FeatureExtractor()\n",
    "f = Extractor.extract_features('calls\\\\9969957664_TaiyubM_2016-01-07-15-11-09.wav')\n",
    "clf.predict([f])"
   ]
  },
  {
   "cell_type": "markdown",
   "metadata": {},
   "source": [
    "## This part tests the class written."
   ]
  },
  {
   "cell_type": "code",
   "execution_count": 3,
   "metadata": {
    "collapsed": false,
    "scrolled": true
   },
   "outputs": [],
   "source": [
    "#To test the class written\n",
    "import emotion_analysis\n",
    "emo = emotion_analysis.EmotionAnalysis()"
   ]
  },
  {
   "cell_type": "code",
   "execution_count": 5,
   "metadata": {
    "collapsed": false
   },
   "outputs": [
    {
     "name": "stdout",
     "output_type": "stream",
     "text": [
      "Loaded audio files, count: 100\n",
      "Loaded audio files, count: 200\n",
      "Loaded audio files, count: 300\n",
      "Loaded audio files, count: 400\n",
      "Loaded audio files, count: 500\n"
     ]
    }
   ],
   "source": [
    "inp, lab = emo.prepare_dataset('data')"
   ]
  },
  {
   "cell_type": "code",
   "execution_count": 6,
   "metadata": {
    "collapsed": false
   },
   "outputs": [],
   "source": [
    "clf = emo.train_classifier([inp, lab])"
   ]
  },
  {
   "cell_type": "code",
   "execution_count": 7,
   "metadata": {
    "collapsed": false
   },
   "outputs": [],
   "source": [
    "precision, recall, f1_score = emo.test_classifier(clf, [inp, lab])"
   ]
  },
  {
   "cell_type": "code",
   "execution_count": 8,
   "metadata": {
    "collapsed": false
   },
   "outputs": [
    {
     "data": {
      "text/plain": [
       "array([ 0.98064516,  0.98559078,  0.99186992])"
      ]
     },
     "execution_count": 8,
     "metadata": {},
     "output_type": "execute_result"
    }
   ],
   "source": [
    "f1_score"
   ]
  },
  {
   "cell_type": "code",
   "execution_count": 9,
   "metadata": {
    "collapsed": false
   },
   "outputs": [
    {
     "data": {
      "text/plain": [
       "'neutral'"
      ]
     },
     "execution_count": 9,
     "metadata": {},
     "output_type": "execute_result"
    }
   ],
   "source": [
    "import scipy.io.wavfile as wav\n",
    "emo.evaluate(clf,  audio_signal = wav.read('negative_1.wav'))"
   ]
  },
  {
   "cell_type": "markdown",
   "metadata": {},
   "source": [
    "## This part is useful for creating custom training dataset, from the recorded call. \n",
    "It opens each call and plays it into chunks of 20 sec each and then asks me for a label for those 20 sec of call. "
   ]
  },
  {
   "cell_type": "code",
   "execution_count": null,
   "metadata": {
    "collapsed": false
   },
   "outputs": [],
   "source": [
    "import pyaudio\n",
    "import scipy.io.wavfile as wav\n",
    "from __future__ import division\n",
    "import math\n",
    "from os import listdir\n",
    "from os.path import isfile, join\n",
    "\n",
    "segments = []\n",
    "\n",
    "path = \"calls\"\n",
    "c_total = 0\n",
    "c_read = 0\n",
    "c_skipped = 0\n",
    "audio_files = [f for f in listdir(path) if isfile(join(path, f))]\n",
    "for audio_file in audio_files:\n",
    "    c_total+=1\n",
    "    print \"Reading file: \"+str(c_total)\n",
    "    try:\n",
    "        rate_sig, sig = wav.read(join(path, audio_file))\n",
    "        c_read+=1\n",
    "    except:\n",
    "        c_skipped+=1\n",
    "        continue\n",
    "    for i in range(int(math.ceil(len(sig)/(rate_sig*20)))):\n",
    "        segments.append(sig[i*(rate_sig*20):i*(rate_sig*20) + rate_sig*20])\n",
    "print \"\\n\\n\"\n",
    "print \"Total files: \"+str(c_total)\n",
    "print \"Read files: \"+str(c_read)\n",
    "print \"Skipped files:\"+str(c_skipped)"
   ]
  },
  {
   "cell_type": "code",
   "execution_count": null,
   "metadata": {
    "collapsed": false
   },
   "outputs": [],
   "source": [
    "FORMAT = pyaudio.paInt16\n",
    "CHANNELS = 1\n",
    "\n",
    "map_key_to_emotion = {'1':'negative','2':'neutral', '3':'positive'}\n",
    "\n",
    "p = pyaudio.PyAudio()  \n",
    "#open stream  \n",
    "stream = p.open(format = FORMAT,  \n",
    "                channels = CHANNELS,  \n",
    "                rate = rate_sig,  \n",
    "                output = True)  \n",
    "#read data\n",
    "count_label = 0\n",
    "for segment in segments:\n",
    "    count_label+=1\n",
    "    stream.write(segment[0:len(segment)/2])\n",
    "    stream.write(segment[len(segment)/2:])\n",
    "    segment_label = map_key_to_emotion[raw_input()]\n",
    "    \n",
    "    wav.write(\"data\\\\\"+segment_label+\"_\"+str(count_label)+\".wav\", rate_sig, segment)\n",
    "\n",
    "\n",
    "#stop stream  \n",
    "#stream.stop_stream()  \n",
    "#stream.close()  \n",
    "\n",
    "#close PyAudio  \n",
    "#p.terminate()  "
   ]
  },
  {
   "cell_type": "code",
   "execution_count": null,
   "metadata": {
    "collapsed": false
   },
   "outputs": [],
   "source": [
    "rate, data = wav.read('negative_1.wav')\n",
    "stream.write(data)"
   ]
  },
  {
   "cell_type": "markdown",
   "metadata": {
    "collapsed": true
   },
   "source": [
    "## This part will perform three things for any call:\n",
    "1. Predict the emotion in the entire call.\n",
    "2. Predict the emotion transition between the first half and the second half of the call.\n",
    "3. Predict the emotion in 20 second segments and plot a histogram of emotions or give the count of emotions."
   ]
  },
  {
   "cell_type": "code",
   "execution_count": 14,
   "metadata": {
    "collapsed": false,
    "scrolled": false
   },
   "outputs": [
    {
     "name": "stdout",
     "output_type": "stream",
     "text": [
      "Enter the name of the call file name.\n",
      "> negative_1.wav\n"
     ]
    },
    {
     "data": {
      "image/png": "[encoded data removed]",
      "text/plain": [
       "<matplotlib.figure.Figure at 0x8e9c770>"
      ]
     },
     "metadata": {},
     "output_type": "display_data"
    }
   ],
   "source": [
    "import scipy.io.wavfile as wav\n",
    "import math\n",
    "file_name = raw_input(\"Enter the name of the call file name.\\n> \")\n",
    "rate_sig, sig = wav.read(file_name)\n",
    "\n",
    "plt.plot(sig)\n",
    "plt.plot((0,len(sig)),(0,0),'g')\n",
    "plt.show()\n",
    "\n",
    "complete_call_result = emo.evaluate(clf, audio_signal = (rate_sig, sig))\n",
    "first_half_result = emo.evaluate(clf, audio_signal = (rate_sig, sig[:int(len(sig)/2)]))\n",
    "second_half_result = emo.evaluate(clf, audio_signal = (rate_sig, sig[int(len(sig)/2):]))\n",
    "segment_result = []\n",
    "for i in range(int(math.ceil(len(sig)/(rate_sig*20)))):\n",
    "    segment_result.append(emo.evaluate(clf, audio_signal = (rate_sig, sig[i*rate_sig*20:i*rate_sig*20+rate_sig*20])))"
   ]
  },
  {
   "cell_type": "code",
   "execution_count": 15,
   "metadata": {
    "collapsed": false,
    "scrolled": true
   },
   "outputs": [
    {
     "name": "stdout",
     "output_type": "stream",
     "text": [
      "Overall call result: neutral\n",
      "Trainsition: positive --> neutral\n"
     ]
    },
    {
     "data": {
      "image/png": "[encoded data removed]",
      "text/plain": [
       "<matplotlib.figure.Figure at 0x8f9c810>"
      ]
     },
     "metadata": {},
     "output_type": "display_data"
    }
   ],
   "source": [
    "import numpy as np\n",
    "from __future__ import division\n",
    "print \"Overall call result: \"+complete_call_result\n",
    "print \"Trainsition: \"+first_half_result+\" --> \"+second_half_result\n",
    "map_dict = {'negative':-1, 'neutral':0, 'positive':1}\n",
    "mapped_segment_result = [map_dict[result] for result in segment_result]\n",
    "index = [i for i in range(len(mapped_segment_result))]\n",
    "index = np.asarray(index)\n",
    "bar_width = 1\n",
    "plt.plot((0,index[-1]+1),((0,0)), 'r')\n",
    "plt.bar(index, mapped_segment_result, bar_width)\n",
    "plt.xticks(index + bar_width/2 , (str(i*20)+'-'+str((i+1)*20) for i in index)) \n",
    "plt.xlabel('Time series with 20 seconds chunk')\n",
    "#plt.axes([0, 100, -2, 2])\n",
    "plt.ylabel('Emotion:\\n1 = positive\\n0 = neutral\\n-1 = negative')\n",
    "plt.title('Emotion per 20 second segment')\n",
    "plt.show()"
   ]
  },
  {
   "cell_type": "code",
   "execution_count": null,
   "metadata": {
    "collapsed": false
   },
   "outputs": [],
   "source": []
  },
  {
   "cell_type": "code",
   "execution_count": 38,
   "metadata": {
    "collapsed": true
   },
   "outputs": [],
   "source": [
    "def plot_confusion_matrix(cm, title='Confusion matrix', cmap=plt.cm.Blues):\n",
    "    plt.imshow(cm, interpolation='nearest', cmap=cmap)\n",
    "    plt.title(title)\n",
    "    plt.colorbar()\n",
    "    tick_marks = np.arange(len(cm))\n",
    "    plt.xticks(tick_marks, ['neutral','positive','negative'], rotation=45)\n",
    "    plt.yticks(tick_marks, ['neutral','positive','negative'])\n",
    "    plt.tight_layout()\n",
    "    plt.ylabel('True label')\n",
    "    plt.xlabel('Predicted label')"
   ]
  },
  {
   "cell_type": "code",
   "execution_count": 51,
   "metadata": {
    "collapsed": false
   },
   "outputs": [
    {
     "name": "stdout",
     "output_type": "stream",
     "text": [
      "[[21 20  4]\n",
      " [ 3 26 10]\n",
      " [12 15 18]]\n"
     ]
    },
    {
     "data": {
      "image/png": "[encoded data removed]",
      "text/plain": [
       "<matplotlib.figure.Figure at 0x50a23b0>"
      ]
     },
     "metadata": {},
     "output_type": "display_data"
    }
   ],
   "source": [
    "from sklearn.metrics import confusion_matrix\n",
    "cm = confusion_matrix(act_lab, pred_lab, labels=['neutral','positive','negative'])\n",
    "print cm\n",
    "plot_confusion_matrix(cm)"
   ]
  },
  {
   "cell_type": "code",
   "execution_count": null,
   "metadata": {
    "collapsed": true
   },
   "outputs": [],
   "source": []
  }
 ],
 "metadata": {
  "kernelspec": {
   "display_name": "Python 2",
   "language": "python",
   "name": "python2"
  },
  "language_info": {
   "codemirror_mode": {
    "name": "ipython",
    "version": 2
   },
   "file_extension": ".py",
   "mimetype": "text/x-python",
   "name": "python",
   "nbconvert_exporter": "python",
   "pygments_lexer": "ipython2",
   "version": "2.7.11"
  }
 },
 "nbformat": 4,
 "nbformat_minor": 0
}
