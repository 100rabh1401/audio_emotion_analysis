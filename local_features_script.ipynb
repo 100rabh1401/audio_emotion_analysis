{
 "cells": [
  {
   "cell_type": "code",
   "execution_count": 1,
   "metadata": {
    "collapsed": false
   },
   "outputs": [],
   "source": [
    "from __future__ import division \n",
    "import matplotlib.pyplot as plt\n",
    "%matplotlib inline\n",
    "import time\n",
    "import emotion_analysis\n",
    "emo = emotion_analysis.EmotionAnalysis()"
   ]
  },
  {
   "cell_type": "code",
   "execution_count": 2,
   "metadata": {
    "collapsed": false
   },
   "outputs": [
    {
     "name": "stdout",
     "output_type": "stream",
     "text": [
      "Read audio file 'data\\neutral_127.wav', count: 100\n"
     ]
    }
   ],
   "source": [
    "inp, lab = emo.prepare_dataset_per_frame('data')"
   ]
  },
  {
   "cell_type": "code",
   "execution_count": 3,
   "metadata": {
    "collapsed": false
   },
   "outputs": [
    {
     "data": {
      "text/plain": [
       "Counter({'negative': 57119, 'neutral': 64637, 'positive': 72480})"
      ]
     },
     "execution_count": 3,
     "metadata": {},
     "output_type": "execute_result"
    }
   ],
   "source": [
    "from collections import Counter\n",
    "Counter(lab)"
   ]
  },
  {
   "cell_type": "code",
   "execution_count": 4,
   "metadata": {
    "collapsed": false
   },
   "outputs": [],
   "source": [
    "#from random import shuffle\n",
    "import numpy as np\n",
    "#dataset = zip(inp, lab)\n",
    "#shuffle(dataset)\n",
    "#inp, lab = zip(*dataset)\n",
    "max_value = max([max(i) for i in inp])\n",
    "min_value = min([min(i) for i in inp])\n",
    "\n",
    "#inp = inp[:100000]\n",
    "#lab = lab[:100000]\n",
    "\n",
    "#normalised_inp = np.asarray(inp)/max_value\n",
    "inp = (np.asarray(inp)-min_value)/(max_value-min_value)"
   ]
  },
  {
   "cell_type": "code",
   "execution_count": 5,
   "metadata": {
    "collapsed": false
   },
   "outputs": [
    {
     "name": "stdout",
     "output_type": "stream",
     "text": [
      "Time taken: 253.596000195 s.\n"
     ]
    }
   ],
   "source": [
    "# Random Forest : Better performance\n",
    "s = time.time()\n",
    "from sklearn.ensemble import RandomForestClassifier\n",
    "clf = RandomForestClassifier(n_estimators=100)\n",
    "clf = clf.fit(inp[0:int(len(inp)*3/float(4))],lab[0:int(len(inp)*3/float(4))])\n",
    "#clf = clf.fit(inp, lab)\n",
    "e = time.time()\n",
    "print \"Time taken: \"+str(e-s)+\" s.\""
   ]
  },
  {
   "cell_type": "code",
   "execution_count": 6,
   "metadata": {
    "collapsed": true
   },
   "outputs": [],
   "source": [
    "# SVM with RBF : Worst performance\n",
    "\n",
    "#from sklearn import svm\n",
    "#clf = svm.SVC(kernel = 'rbf')\n",
    "#clf = clf.fit(inp[0:int(len(inp)*3/float(4))],lab[0:int(len(inp)*3/float(4))])\n",
    "#clf = clf.fit(inp, lab)"
   ]
  },
  {
   "cell_type": "code",
   "execution_count": 7,
   "metadata": {
    "collapsed": false
   },
   "outputs": [
    {
     "name": "stdout",
     "output_type": "stream",
     "text": [
      "Time taken: 883.972000122 s.\n"
     ]
    }
   ],
   "source": [
    "s = time.time()\n",
    "y_pred_train = [clf.predict([point]) for point in inp[0:int(len(inp)*3/float(4))]]\n",
    "y_actual_train = [output for output in lab[0:int(len(inp)*3/float(4))]]\n",
    "e = time.time()\n",
    "print \"Time taken: \"+str(e-s)+\" s.\""
   ]
  },
  {
   "cell_type": "code",
   "execution_count": 8,
   "metadata": {
    "collapsed": false
   },
   "outputs": [
    {
     "name": "stdout",
     "output_type": "stream",
     "text": [
      "Precision = [ 0.99997829  1.          1.        ]\n",
      "Recall = [ 1.        0.999984  1.      ]\n",
      "F1 Score = [ 0.99998915  0.999992    1.        ]\n"
     ]
    }
   ],
   "source": [
    "from sklearn.metrics import precision_recall_fscore_support\n",
    "precision, recall, f1_score, _ = precision_recall_fscore_support(y_actual_train, y_pred_train, labels=['neutral','positive','negative'])\n",
    "print \"Precision = \"+str(precision)+\"\\nRecall = \"+str(recall)+\"\\nF1 Score = \"+str(f1_score)"
   ]
  },
  {
   "cell_type": "code",
   "execution_count": 10,
   "metadata": {
    "collapsed": false
   },
   "outputs": [
    {
     "name": "stdout",
     "output_type": "stream",
     "text": [
      "Time taken: 335.055000067 s.\n"
     ]
    }
   ],
   "source": [
    "s = time.time()\n",
    "y_pred_test = [clf.predict([point]) for point in inp[int(len(inp)*3/float(4)):]]\n",
    "y_actual_test =[output for output in lab[int(len(inp)*3/float(4)):]]\n",
    "e = time.time()\n",
    "print \"Time taken: \"+str(e-s)+\" s.\""
   ]
  },
  {
   "cell_type": "code",
   "execution_count": 11,
   "metadata": {
    "collapsed": false
   },
   "outputs": [
    {
     "name": "stdout",
     "output_type": "stream",
     "text": [
      "Precision = [ 0.44381919  0.2606487   0.51188257]\n",
      "Recall = [ 0.25901798  0.75977989  0.2198099 ]\n",
      "F1 Score = [ 0.32712314  0.38814209  0.30755232]\n"
     ]
    }
   ],
   "source": [
    "from sklearn.metrics import precision_recall_fscore_support\n",
    "precision, recall, f1_score, _ = precision_recall_fscore_support(y_actual_test, y_pred_test, labels=['neutral','positive','negative'])\n",
    "print \"Precision = \"+str(precision)+\"\\nRecall = \"+str(recall)+\"\\nF1 Score = \"+str(f1_score)"
   ]
  },
  {
   "cell_type": "code",
   "execution_count": 12,
   "metadata": {
    "collapsed": false
   },
   "outputs": [],
   "source": [
    "lab_to_int = {'neutral':0, 'positive':1, 'negative':2}\n",
    "int_to_lab = {0:'neutral', 1:'positive', 2:'negative'}"
   ]
  },
  {
   "cell_type": "code",
   "execution_count": 13,
   "metadata": {
    "collapsed": true
   },
   "outputs": [],
   "source": [
    "import feature_extractor\n",
    "import scipy.io.wavfile as wav\n",
    "import math\n",
    "\n",
    "extractor = feature_extractor.FeatureExtractor()\n",
    "\n",
    "def final_result(audio_signal):\n",
    "    all_result = []\n",
    "    for frame_feature in extractor.extract_features_per_frame(audio_signal = audio_signal):\n",
    "        frame_feature = (np.asarray(frame_feature)-min_value)/(max_value-min_value)\n",
    "        frame_result = clf.predict([frame_feature])\n",
    "        all_result.append(frame_result[0])\n",
    "    label_counts = Counter(all_result)\n",
    "    return max(label_counts, key = label_counts.get)"
   ]
  },
  {
   "cell_type": "code",
   "execution_count": 14,
   "metadata": {
    "collapsed": false,
    "scrolled": true
   },
   "outputs": [
    {
     "name": "stdout",
     "output_type": "stream",
     "text": [
      "Counter: 1\n",
      "Counter: 2\n",
      "Counter: 3\n",
      "Counter: 4\n",
      "Counter: 5\n",
      "Counter: 6\n",
      "Counter: 7\n",
      "Counter: 8\n",
      "Counter: 9\n",
      "Counter: 10\n",
      "Counter: 11\n",
      "Counter: 12\n",
      "Counter: 13\n",
      "Counter: 14\n",
      "Counter: 15\n",
      "Counter: 16\n",
      "Counter: 17\n",
      "Counter: 18\n",
      "Counter: 19\n",
      "Counter: 20\n",
      "Counter: 21\n",
      "Counter: 22\n",
      "Counter: 23\n",
      "Counter: 24\n",
      "Counter: 25\n",
      "Counter: 26\n",
      "Counter: 27\n",
      "Counter: 28\n",
      "Counter: 29\n",
      "Counter: 30\n",
      "Counter: 31\n",
      "Counter: 32\n",
      "Counter: 33\n",
      "Counter: 34\n",
      "Counter: 35\n",
      "Counter: 36\n",
      "Counter: 37\n",
      "Counter: 38\n",
      "Counter: 39\n",
      "Counter: 40\n",
      "Counter: 41\n",
      "Counter: 42\n",
      "Counter: 43\n",
      "Counter: 44\n",
      "Counter: 45\n",
      "Counter: 46\n",
      "Counter: 47\n",
      "Counter: 48\n",
      "Counter: 49\n",
      "Counter: 50\n",
      "Counter: 51\n",
      "Counter: 52\n",
      "Counter: 53\n",
      "Counter: 54\n",
      "Counter: 55\n",
      "Counter: 56\n",
      "Counter: 57\n",
      "Counter: 58\n",
      "Counter: 59\n",
      "Counter: 60\n",
      "Counter: 61\n",
      "Counter: 62\n",
      "Counter: 63\n",
      "Counter: 64\n",
      "Counter: 65\n",
      "Counter: 66\n",
      "Counter: 67\n",
      "Counter: 68\n",
      "Counter: 69\n",
      "Counter: 70\n",
      "Counter: 71\n",
      "Counter: 72\n",
      "Counter: 73\n",
      "Counter: 74\n",
      "Counter: 75\n",
      "Counter: 76\n",
      "Counter: 77\n",
      "Counter: 78\n",
      "Counter: 79\n",
      "Counter: 80\n",
      "Counter: 81\n",
      "Counter: 82\n",
      "Counter: 83\n",
      "Counter: 84\n",
      "Counter: 85\n",
      "Counter: 86\n",
      "Counter: 87\n",
      "Counter: 88\n",
      "Counter: 89\n",
      "Counter: 90\n",
      "Counter: 91\n",
      "Counter: 92\n",
      "Counter: 93\n",
      "Counter: 94\n",
      "Counter: 95\n",
      "Counter: 96\n",
      "Counter: 97\n",
      "Counter: 98\n",
      "Counter: 99\n",
      "Counter: 100\n",
      "Counter: 101\n",
      "Counter: 102\n",
      "Counter: 103\n",
      "Counter: 104\n",
      "Counter: 105\n",
      "Counter: 106\n",
      "Counter: 107\n",
      "Counter: 108\n",
      "Counter: 109\n",
      "Counter: 110\n",
      "Counter: 111\n",
      "Counter: 112\n",
      "Counter: 113\n",
      "Counter: 114\n",
      "Counter: 115\n",
      "Counter: 116\n",
      "Counter: 117\n",
      "Counter: 118\n",
      "Counter: 119\n",
      "Counter: 120\n",
      "Counter: 121\n",
      "Counter: 122\n",
      "Counter: 123\n",
      "Counter: 124\n",
      "Counter: 125\n",
      "Counter: 126\n",
      "Counter: 127\n",
      "Counter: 128\n",
      "Counter: 129\n",
      "Counter: 130\n",
      "Counter: 131\n",
      "Counter: 132\n",
      "Counter: 133\n",
      "Counter: 134\n",
      "Counter: 135\n",
      "Counter: 136\n",
      "Counter: 137\n",
      "Counter: 138\n",
      "Counter: 139\n",
      "Counter: 140\n",
      "Counter: 141\n",
      "Counter: 142\n",
      "Counter: 143\n",
      "Counter: 144\n",
      "Counter: 145\n",
      "Counter: 146\n",
      "Counter: 147\n",
      "Counter: 148\n",
      "Counter: 149\n",
      "Counter: 150\n",
      "Counter: 151\n",
      "Counter: 152\n",
      "Counter: 153\n",
      "Counter: 154\n",
      "Counter: 155\n",
      "Counter: 156\n",
      "Counter: 157\n",
      "Counter: 158\n",
      "Counter: 159\n",
      "Counter: 160\n",
      "Counter: 161\n",
      "Counter: 162\n",
      "Counter: 163\n",
      "Counter: 164\n",
      "Counter: 165\n",
      "Counter: 166\n",
      "Counter: 167\n",
      "Counter: 168\n",
      "Counter: 169\n",
      "Counter: 170\n",
      "Counter: 171\n",
      "Counter: 172\n",
      "Counter: 173\n",
      "Counter: 174\n",
      "Counter: 175\n",
      "Counter: 176\n",
      "Counter: 177\n",
      "Counter: 178\n",
      "Counter: 179\n",
      "Counter: 180\n",
      "Counter: 181\n",
      "Counter: 182\n",
      "Counter: 183\n",
      "Counter: 184\n",
      "Counter: 185\n",
      "Counter: 186\n",
      "Counter: 187\n",
      "Counter: 188\n",
      "Counter: 189\n",
      "Counter: 190\n",
      "Counter: 191\n",
      "Counter: 192\n",
      "Counter: 193\n",
      "Counter: 194\n",
      "Counter: 195\n",
      "Counter: 196\n",
      "Counter: 197\n",
      "Counter: 198\n",
      "Counter: 199\n",
      "Counter: 200\n",
      "Counter: 201\n",
      "Counter: 202\n",
      "Counter: 203\n",
      "Counter: 204\n",
      "Counter: 205\n",
      "Counter: 206\n",
      "Counter: 207\n",
      "Counter: 208\n",
      "Counter: 209\n",
      "Counter: 210\n",
      "Counter: 211\n",
      "Counter: 212\n",
      "Counter: 213\n",
      "Counter: 214\n",
      "Counter: 215\n",
      "Counter: 216\n",
      "Counter: 217\n",
      "Counter: 218\n",
      "Counter: 219\n",
      "Counter: 220\n",
      "Counter: 221\n",
      "Counter: 222\n",
      "Counter: 223\n",
      "Counter: 224\n",
      "Counter: 225\n",
      "Counter: 226\n",
      "Counter: 227\n",
      "Counter: 228\n",
      "Counter: 229\n",
      "Counter: 230\n",
      "Counter: 231\n",
      "Counter: 232\n",
      "Counter: 233\n",
      "Counter: 234\n",
      "Counter: 235\n",
      "Counter: 236\n",
      "Counter: 237\n",
      "Counter: 238\n",
      "Counter: 239\n",
      "Counter: 240\n",
      "Counter: 241\n",
      "Counter: 242\n",
      "Counter: 243\n",
      "Counter: 244\n",
      "Counter: 245\n",
      "Counter: 246\n",
      "Counter: 247\n",
      "Counter: 248\n",
      "Counter: 249\n",
      "Counter: 250\n",
      "Counter: 251\n",
      "Counter: 252\n",
      "Counter: 253\n",
      "Counter: 254\n",
      "Counter: 255\n",
      "Counter: 256\n",
      "Counter: 257\n",
      "Counter: 258\n",
      "Counter: 259\n",
      "Counter: 260\n",
      "Counter: 261\n",
      "Counter: 262\n",
      "Counter: 263\n",
      "Counter: 264\n",
      "Counter: 265\n",
      "Counter: 266\n",
      "Counter: 267\n",
      "Counter: 268\n",
      "Counter: 269\n",
      "Counter: 270\n",
      "Counter: 271\n",
      "Counter: 272\n",
      "Counter: 273\n",
      "Counter: 274\n",
      "Counter: 275\n",
      "Counter: 276\n",
      "Counter: 277\n",
      "Counter: 278\n",
      "Counter: 279\n",
      "Counter: 280\n",
      "Counter: 281\n",
      "Counter: 282\n",
      "Counter: 283\n",
      "Counter: 284\n",
      "Counter: 285\n",
      "Counter: 286\n",
      "Counter: 287\n",
      "Counter: 288\n",
      "Counter: 289\n",
      "Counter: 290\n",
      "Counter: 291\n",
      "Counter: 292\n",
      "Counter: 293\n",
      "Counter: 294\n",
      "Counter: 295\n",
      "Counter: 296\n",
      "Counter: 297\n",
      "Counter: 298\n",
      "Counter: 299\n",
      "Counter: 300\n",
      "Counter: 301\n",
      "Counter: 302\n",
      "Counter: 303\n",
      "Counter: 304\n",
      "Counter: 305\n",
      "Counter: 306\n",
      "Counter: 307\n",
      "Counter: 308\n",
      "Counter: 309\n",
      "Counter: 310\n",
      "Counter: 311\n",
      "Counter: 312\n",
      "Counter: 313\n",
      "Counter: 314\n",
      "Counter: 315\n",
      "Counter: 316\n",
      "Counter: 317\n",
      "Counter: 318\n",
      "Counter: 319\n",
      "Counter: 320\n",
      "Counter: 321\n",
      "Counter: 322\n",
      "Counter: 323\n",
      "Counter: 324\n",
      "Counter: 325\n",
      "Counter: 326\n",
      "Counter: 327\n",
      "Counter: 328\n",
      "Counter: 329\n",
      "Counter: 330\n",
      "Counter: 331\n",
      "Counter: 332\n",
      "Counter: 333\n",
      "Counter: 334\n",
      "Counter: 335\n",
      "Counter: 336\n",
      "Counter: 337\n",
      "Counter: 338\n",
      "Counter: 339\n",
      "Counter: 340\n",
      "Counter: 341\n",
      "Counter: 342\n",
      "Counter: 343\n",
      "Counter: 344\n",
      "Counter: 345\n",
      "Counter: 346\n",
      "Counter: 347\n",
      "Counter: 348\n",
      "Counter: 349\n",
      "Counter: 350\n",
      "Counter: 351\n",
      "Counter: 352\n",
      "Counter: 353\n",
      "Counter: 354\n",
      "Counter: 355\n",
      "Counter: 356\n",
      "Counter: 357\n",
      "Counter: 358\n",
      "Counter: 359\n",
      "Counter: 360\n",
      "Counter: 361\n",
      "Counter: 362\n",
      "Counter: 363\n",
      "Counter: 364\n",
      "Counter: 365\n",
      "Counter: 366\n",
      "Counter: 367\n",
      "Counter: 368\n",
      "Counter: 369\n",
      "Counter: 370\n",
      "Counter: 371\n",
      "Counter: 372\n",
      "Counter: 373\n",
      "Counter: 374\n",
      "Counter: 375\n",
      "Counter: 376\n",
      "Counter: 377\n",
      "Counter: 378\n",
      "Counter: 379\n",
      "Counter: 380\n",
      "Counter: 381\n",
      "Counter: 382\n",
      "Counter: 383\n",
      "Counter: 384\n",
      "Counter: 385\n",
      "Counter: 386\n",
      "Counter: 387\n",
      "Counter: 388\n",
      "Counter: 389\n",
      "Counter: 390\n",
      "Counter: 391\n",
      "Counter: 392\n",
      "Counter: 393\n",
      "Counter: 394\n",
      "Counter: 395\n",
      "Counter: 396\n",
      "Counter: 397\n",
      "Counter: 398\n",
      "Counter: 399\n",
      "Counter: 400\n",
      "Counter: 401\n",
      "Counter: 402\n",
      "Counter: 403\n",
      "Counter: 404\n",
      "Counter: 405\n",
      "Counter: 406\n",
      "Counter: 407\n",
      "Counter: 408\n",
      "Counter: 409\n",
      "Counter: 410\n",
      "Counter: 411\n",
      "Counter: 412\n",
      "Counter: 413\n",
      "Counter: 414\n",
      "Counter: 415\n",
      "Counter: 416\n",
      "Counter: 417\n",
      "Counter: 418\n",
      "Counter: 419\n",
      "Counter: 420\n",
      "Counter: 421\n",
      "Counter: 422\n",
      "Counter: 423\n",
      "Counter: 424\n",
      "Counter: 425\n",
      "Counter: 426\n",
      "Counter: 427\n",
      "Counter: 428\n",
      "Counter: 429\n",
      "Counter: 430\n",
      "Counter: 431\n",
      "Counter: 432\n",
      "Counter: 433\n",
      "Counter: 434\n",
      "Counter: 435\n",
      "Counter: 436\n",
      "Counter: 437\n",
      "Counter: 438\n",
      "Counter: 439\n",
      "Counter: 440\n",
      "Counter: 441\n",
      "Counter: 442\n",
      "Counter: 443\n",
      "Counter: 444\n",
      "Counter: 445\n",
      "Counter: 446\n",
      "Counter: 447\n",
      "Counter: 448\n",
      "Counter: 449\n",
      "Counter: 450\n",
      "Counter: 451\n",
      "Counter: 452\n",
      "Counter: 453\n",
      "Counter: 454\n",
      "Counter: 455\n",
      "Counter: 456\n",
      "Counter: 457\n",
      "Counter: 458\n",
      "Counter: 459\n",
      "Counter: 460\n",
      "Counter: 461\n",
      "Counter: 462\n",
      "Counter: 463\n",
      "Counter: 464\n",
      "Counter: 465\n",
      "Counter: 466\n",
      "Counter: 467\n",
      "Counter: 468\n",
      "Counter: 469\n",
      "Counter: 470\n",
      "Counter: 471\n",
      "Counter: 472\n",
      "Counter: 473\n",
      "Counter: 474\n",
      "Counter: 475\n",
      "Counter: 476\n",
      "Counter: 477\n",
      "Counter: 478\n",
      "Counter: 479\n",
      "Counter: 480\n",
      "Counter: 481\n",
      "Counter: 482\n",
      "Counter: 483\n",
      "Counter: 484\n",
      "Counter: 485\n",
      "Counter: 486\n",
      "Counter: 487\n",
      "Counter: 488\n",
      "Counter: 489\n",
      "Counter: 490\n",
      "Counter: 491\n",
      "Counter: 492\n",
      "Counter: 493\n",
      "Counter: 494\n",
      "Counter: 495\n",
      "Counter: 496\n",
      "Counter: 497\n",
      "Counter: 498\n",
      "Counter: 499\n",
      "Counter: 500\n",
      "Counter: 501\n",
      "Counter: 502\n",
      "Counter: 503\n",
      "Counter: 504\n",
      "Counter: 505\n",
      "Counter: 506\n",
      "Counter: 507\n",
      "Counter: 508\n",
      "Counter: 509\n",
      "Counter: 510\n",
      "Counter: 511\n",
      "Counter: 512\n",
      "Counter: 513\n",
      "Time taken: 6213.99600005 s.\n"
     ]
    }
   ],
   "source": [
    "s = time.time()\n",
    "from os import listdir\n",
    "from os.path import isfile, join\n",
    "import scipy.io.wavfile as wav\n",
    "from random import shuffle\n",
    "\n",
    "path = 'data'\n",
    "\n",
    "y_pred=[]\n",
    "y_actual=[]\n",
    "\n",
    "audio_files = [f for f in listdir(path) if isfile(join(path, f))]\n",
    "shuffle(audio_files)\n",
    "count = 0\n",
    "for audio_file in audio_files:\n",
    "    count+=1\n",
    "    print \"Counter: \"+str(count)\n",
    "    y_pred.append(final_result(audio_signal = wav.read(join(path, audio_file))))\n",
    "    y_actual.append(audio_file.split('_')[0])\n",
    "e = time.time()\n",
    "print \"Time taken: \"+str(e-s)+\" s.\""
   ]
  },
  {
   "cell_type": "code",
   "execution_count": 15,
   "metadata": {
    "collapsed": false
   },
   "outputs": [
    {
     "name": "stdout",
     "output_type": "stream",
     "text": [
      "Precision = [ 0.78181818  0.42553191  0.91428571]\n",
      "Recall = [ 0.24712644  0.97297297  0.20779221]\n",
      "F1 Score = [ 0.37554585  0.59210526  0.33862434]\n"
     ]
    }
   ],
   "source": [
    "from sklearn.metrics import precision_recall_fscore_support\n",
    "precision, recall, f1_score, _ = precision_recall_fscore_support(y_actual, y_pred, labels=['neutral','positive','negative'])\n",
    "print \"Precision = \"+str(precision)+\"\\nRecall = \"+str(recall)+\"\\nF1 Score = \"+str(f1_score)"
   ]
  },
  {
   "cell_type": "code",
   "execution_count": 16,
   "metadata": {
    "collapsed": false
   },
   "outputs": [
    {
     "name": "stdout",
     "output_type": "stream",
     "text": [
      "Enter the name of the call file name.\n",
      "> negative_1.wav\n"
     ]
    },
    {
     "data": {
      "image/png": "[encoded data removed]",
      "text/plain": [
       "<matplotlib.figure.Figure at 0x42a38d0>"
      ]
     },
     "metadata": {},
     "output_type": "display_data"
    }
   ],
   "source": [
    "file_name = raw_input(\"Enter the name of the call file name.\\n> \")\n",
    "rate_sig, sig = wav.read(file_name)\n",
    "\n",
    "plt.plot(sig)\n",
    "plt.plot((0,len(sig)),(0,0),'g')\n",
    "plt.show()\n",
    "\n",
    "complete_call_result = final_result(audio_signal = (rate_sig, sig))\n",
    "first_half_result = final_result(audio_signal = (rate_sig, sig[:int(len(sig)/2)]))\n",
    "second_half_result = final_result(audio_signal = (rate_sig, sig[int(len(sig)/2):]))\n",
    "segment_result = []\n",
    "for i in range(int(math.ceil(len(sig)/(rate_sig*20)))):\n",
    "    segment_result.append(final_result(audio_signal = (rate_sig, sig[i*rate_sig*20:i*rate_sig*20+rate_sig*20])))"
   ]
  },
  {
   "cell_type": "code",
   "execution_count": 17,
   "metadata": {
    "collapsed": false
   },
   "outputs": [
    {
     "name": "stdout",
     "output_type": "stream",
     "text": [
      "Overall call result: positive\n",
      "Trainsition: positive --> positive\n"
     ]
    },
    {
     "data": {
      "image/png": "[encoded data removed]",
      "text/plain": [
       "<matplotlib.figure.Figure at 0x6abda10>"
      ]
     },
     "metadata": {},
     "output_type": "display_data"
    }
   ],
   "source": [
    "# import numpy as np\n",
    "from __future__ import division\n",
    "print \"Overall call result: \"+complete_call_result\n",
    "print \"Trainsition: \"+first_half_result+\" --> \"+second_half_result\n",
    "map_dict = {'negative':-1, 'neutral':0, 'positive':1}\n",
    "mapped_segment_result = [map_dict[result] for result in segment_result]\n",
    "index = [i for i in range(len(mapped_segment_result))]\n",
    "index = np.asarray(index)\n",
    "bar_width = 1\n",
    "plt.plot((0,index[-1]+1),((0,0)), 'r')\n",
    "plt.bar(index, mapped_segment_result, bar_width)\n",
    "plt.xticks(index + bar_width/2 , (str(i*20)+'-'+str((i+1)*20) for i in index))\n",
    "plt.xlabel('Time series with 20 seconds chunk')\n",
    "#plt.axes([0, 100, -2, 2])\n",
    "plt.ylabel('Emotion:\\n1 = positive\\n0 = neutral\\n-1 = negative')\n",
    "plt.title('Emotion per 20 second segment')\n",
    "plt.show()"
   ]
  },
  {
   "cell_type": "code",
   "execution_count": 18,
   "metadata": {
    "collapsed": true
   },
   "outputs": [],
   "source": [
    "def plot_confusion_matrix(cm, title='Confusion matrix', cmap=plt.cm.Blues):\n",
    "    plt.imshow(cm, interpolation='nearest', cmap=cmap)\n",
    "    plt.title(title)\n",
    "    plt.colorbar()\n",
    "    tick_marks = np.arange(len(cm))\n",
    "    plt.xticks(tick_marks, ['neutral','positive','negative'], rotation=45)\n",
    "    plt.yticks(tick_marks, ['neutral','positive','negative'])\n",
    "    plt.tight_layout()\n",
    "    plt.ylabel('True label')\n",
    "    plt.xlabel('Predicted label')"
   ]
  },
  {
   "cell_type": "code",
   "execution_count": null,
   "metadata": {
    "collapsed": false
   },
   "outputs": [],
   "source": [
    "from sklearn.metrics import confusion_matrix\n",
    "cm = confusion_matrix(y_actual, y_pred, labels=['neutral','positive','negative'])\n",
    "print cm\n",
    "plot_confusion_matrix(cm)"
   ]
  },
  {
   "cell_type": "code",
   "execution_count": null,
   "metadata": {
    "collapsed": false
   },
   "outputs": [],
   "source": [
    "len([1 for i in range(len(y_pred)) if y_pred[i]==y_actual[i]])/float(len(y_pred))"
   ]
  },
  {
   "cell_type": "code",
   "execution_count": null,
   "metadata": {
    "collapsed": false
   },
   "outputs": [],
   "source": [
    "lab[1] "
   ]
  },
  {
   "cell_type": "code",
   "execution_count": null,
   "metadata": {
    "collapsed": true
   },
   "outputs": [],
   "source": []
  },
  {
   "cell_type": "code",
   "execution_count": null,
   "metadata": {
    "collapsed": true
   },
   "outputs": [],
   "source": []
  },
  {
   "cell_type": "code",
   "execution_count": null,
   "metadata": {
    "collapsed": true
   },
   "outputs": [],
   "source": []
  }
 ],
 "metadata": {
  "kernelspec": {
   "display_name": "Python 2",
   "language": "python",
   "name": "python2"
  },
  "language_info": {
   "codemirror_mode": {
    "name": "ipython",
    "version": 2
   },
   "file_extension": ".py",
   "mimetype": "text/x-python",
   "name": "python",
   "nbconvert_exporter": "python",
   "pygments_lexer": "ipython2",
   "version": "2.7.11"
  }
 },
 "nbformat": 4,
 "nbformat_minor": 0
}
